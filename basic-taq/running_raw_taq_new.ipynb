{
 "cells": [
  {
   "cell_type": "code",
   "execution_count": 9,
   "metadata": {
    "collapsed": false
   },
   "outputs": [
    {
     "data": {
      "text/plain": [
       "<module 'raw_taq' from 'c:\\\\Users\\\\jie\\\\Documents\\\\GitHub\\\\dlab-finance\\\\basic-taq\\\\raw_taq.py'>"
      ]
     },
     "execution_count": 9,
     "metadata": {},
     "output_type": "execute_result"
    }
   ],
   "source": [
    "from glob import glob\n",
    "from itertools import (islice, zip_longest)\n",
    "from collections import Counter\n",
    "import numpy as np\n",
    "from sys import argv\n",
    "\n",
    "import raw_taq\n",
    "\n",
    "import importlib\n",
    "importlib.reload(raw_taq)"
   ]
  },
  {
   "cell_type": "code",
   "execution_count": 10,
   "metadata": {
    "collapsed": false
   },
   "outputs": [],
   "source": [
    "def count_chunk_elements(fname, chunksize = 1000000, max_chunk = None, process_chunk = True):\n",
    "\n",
    "    symbol_roots = Counter()\n",
    "\n",
    "    for (i,chunk) in enumerate(islice(raw_taq.TAQ2Chunks(fname, chunksize=chunksize, do_process_chunk=process_chunk), max_chunk)):\n",
    "\n",
    "        counts = np.unique(chunk[:]['Symbol_root'], return_counts=True)\n",
    "        symbol_roots.update(dict(zip_longest(counts[0], counts[1])))\n",
    "\n",
    "        #print(\"\\r {0}\".format(i),end=\"\")\n",
    "\n",
    "    return symbol_roots"
   ]
  },
  {
   "cell_type": "code",
   "execution_count": 11,
   "metadata": {
    "collapsed": false
   },
   "outputs": [],
   "source": [
    "#fname = '../local_data/EQY_US_ALL_BBO_20150102.zip'\n",
    "fname = '../local_data/EQY_US_ALL_BBO_20140206.zip'\n"
   ]
  },
  {
   "cell_type": "code",
   "execution_count": 12,
   "metadata": {
    "collapsed": false
   },
   "outputs": [
    {
     "name": "stdout",
     "output_type": "stream",
     "text": [
      "Wall time: 4min 30s\n"
     ]
    }
   ],
   "source": [
    "%time c = count_chunk_elements(fname, chunksize = 1000, max_chunk=None, process_chunk = False)\n"
   ]
  },
  {
   "cell_type": "code",
   "execution_count": 10,
   "metadata": {
    "collapsed": false,
    "scrolled": true
   },
   "outputs": [
    {
     "name": "stdout",
     "output_type": "stream",
     "text": [
      "0\tSPY\t10297058\n",
      "1\tQQQ\t5740732\n",
      "2\tDIA\t5611075\n",
      "3\tIWM\t5467710\n",
      "4\tVXX\t4312499\n",
      "5\tUVXY\t3682506\n",
      "6\tSSO\t3235515\n",
      "7\tXIV\t3229013\n",
      "8\tIVV\t2922134\n",
      "9\tTNA\t2504003\n",
      "10\tGM\t2452497\n",
      "11\tSDS\t2324211\n",
      "12\tUNG\t2264448\n",
      "13\tQLD\t2250398\n",
      "14\tUGAZ\t2193335\n",
      "15\tEEM\t2179802\n",
      "16\tSPXU\t2058427\n",
      "17\tUPRO\t2005122\n",
      "18\tTZA\t2002577\n",
      "19\tXLE\t1986953\n",
      "20\tEFA\t1935417\n",
      "21\tQID\t1845243\n",
      "22\tSVXY\t1825746\n",
      "23\tVIIX\t1798330\n",
      "24\tC\t1783541\n",
      "25\tVALE\t1721815\n",
      "26\tSPXL\t1657774\n",
      "27\tJPM\t1653048\n",
      "28\tFB\t1615823\n",
      "29\tSQQQ\t1605698\n",
      "30\tSDOW\t1572361\n",
      "31\tPBR\t1541600\n",
      "32\tVOO\t1534326\n",
      "33\tMSFT\t1517661\n",
      "34\tDDM\t1496905\n",
      "35\tXLI\t1486355\n",
      "36\tXLY\t1482653\n",
      "37\tBAC\t1458931\n",
      "38\tCHK\t1421841\n",
      "39\tEWZ\t1414226\n",
      "40\tVZ\t1411516\n",
      "41\tMU\t1406021\n",
      "42\tGE\t1398166\n",
      "43\tWFC\t1385294\n",
      "44\tTQQQ\t1299812\n",
      "45\tGLD\t1286694\n",
      "46\tUDOW\t1286300\n",
      "47\tIYR\t1259243\n",
      "48\tMDY\t1248677\n",
      "49\tPFE\t1232134\n",
      "50\tFAS\t1206044\n",
      "51\tTWM\t1192135\n",
      "52\tXLB\t1181770\n",
      "53\tPNC\t1168967\n",
      "54\tCVX\t1149495\n",
      "55\tXLV\t1146126\n",
      "56\tDHI\t1145891\n",
      "57\tVOD\t1131235\n",
      "58\tCMCS\t1128529\n",
      "59\tFAZ\t1124740\n",
      "60\tT\t1118109\n",
      "61\tDXD\t1110021\n",
      "62\tXHB\t1079966\n",
      "63\tMS\t1058689\n",
      "64\tEMC\t1056158\n",
      "65\tVWO\t1043193\n",
      "66\tF\t1031661\n",
      "67\tTVIX\t1023234\n",
      "68\tALLY\t1021670\n",
      "69\tSRTY\t1013794\n",
      "70\tHAL\t1010828\n",
      "71\tVIXY\t1007965\n",
      "72\tCX\t1006212\n",
      "73\tQCOM\t998265\n",
      "74\tFXI\t992188\n",
      "75\tDGAZ\t987866\n",
      "76\tXLF\t984694\n",
      "77\tHUSI\t959788\n",
      "78\tWMB\t952849\n",
      "79\tABX\t947531\n",
      "80\tGDX\t943446\n",
      "81\tMTCN\t928062\n",
      "82\tKO\t925980\n",
      "83\tTLT\t923903\n",
      "84\tUWM\t916366\n",
      "85\tUSO\t914059\n",
      "86\tBRK\t909092\n",
      "87\tCSCO\t909021\n",
      "88\tEBAY\t905720\n",
      "89\tXLK\t903230\n",
      "90\tDIS\t901278\n",
      "91\tX\t895352\n",
      "92\tITUB\t892101\n",
      "93\tPHM\t884943\n",
      "94\tMO\t875556\n",
      "95\tBOIL\t864426\n",
      "96\tMET\t860213\n",
      "97\tFCX\t856963\n",
      "98\tSPXS\t856262\n",
      "99\tWMT\t855111\n"
     ]
    }
   ],
   "source": [
    "# The TAQ files are in ASCII, not utf-8. \n",
    "# It won't make a difference, but creates incorrect assumptions for later, maybe!\n",
    "# Also, using nested unpacking in for loops is discouraged, as it's hard to follow. -DJC\n",
    "for (i,(k,v)) in enumerate(islice(c.most_common(),100)):\n",
    "    print (\"\\t\".join([str(i), k.decode('utf-8').strip(), str(v)]))"
   ]
  },
  {
   "cell_type": "markdown",
   "metadata": {},
   "source": [
    "Converting to HDF5\n"
   ]
  },
  {
   "cell_type": "code",
   "execution_count": 1,
   "metadata": {
    "collapsed": false
   },
   "outputs": [
    {
     "data": {
      "text/plain": [
       "<module 'raw_taq' from 'c:\\\\Users\\\\jie\\\\Documents\\\\GitHub\\\\dlab-finance\\\\basic-taq\\\\raw_taq.py'>"
      ]
     },
     "execution_count": 1,
     "metadata": {},
     "output_type": "execute_result"
    }
   ],
   "source": [
    "import numpy as np\n",
    "import tables as tb\n",
    "\n",
    "import raw_taq\n",
    "from importlib import reload\n",
    "reload(raw_taq)"
   ]
  },
  {
   "cell_type": "code",
   "execution_count": 2,
   "metadata": {
    "collapsed": true
   },
   "outputs": [],
   "source": [
    "test = raw_taq.TAQ2Chunks('../local_data/EQY_US_ALL_BBO_20140206.zip', do_process_chunk=True)"
   ]
  },
  {
   "cell_type": "code",
   "execution_count": 3,
   "metadata": {
    "collapsed": false
   },
   "outputs": [],
   "source": [
    "h5 = test.setup_hdf5('20140206')"
   ]
  },
  {
   "cell_type": "code",
   "execution_count": 7,
   "metadata": {
    "collapsed": false,
    "scrolled": true
   },
   "outputs": [
    {
     "name": "stdout",
     "output_type": "stream",
     "text": [
      "Wall time: 4.57 s\n",
      "[ (1391647625.217, 14, 50, 33217, b'T', b'ABT   ', b'          ', 36.66, 20, 36.67, 13, b'R', b'    ', b'T', b'T', 19275986, b'0', b'2', b' ', b'C', b' ', b' ', b' ', b' ', b' ', b' ', b' ')\n",
      " (1391647625.218, 14, 50, 33218, b'T', b'ABT   ', b'          ', 36.66, 20, 36.67, 11, b'R', b'    ', b'T', b'T', 19275989, b'0', b'2', b' ', b'C', b' ', b' ', b' ', b' ', b' ', b' ', b' ')\n",
      " (1391647625.218, 14, 50, 33218, b'Z', b'ABT   ', b'          ', 36.66, 6, 36.67, 27, b'R', b'    ', b'Z', b'Z', 19275990, b'6', b'2', b' ', b'C', b' ', b' ', b' ', b' ', b' ', b' ', b' ')\n",
      " ...,\n",
      " (1391651308.714, 15, 9, 16714, b'N', b'ABX   ', b'          ', 18.53, 27, 18.54, 84, b'R', b'    ', b'N', b'N', 20389629, b'6', b'2', b'A', b'C', b'C', b' ', b' ', b' ', b' ', b' ', b'A')\n",
      " (1391651308.857, 15, 9, 16857, b'T', b'ABX   ', b'          ', 18.53, 47, 18.54, 45, b'R', b'    ', b'T', b'T', 20389716, b'0', b'2', b' ', b'C', b' ', b' ', b' ', b' ', b' ', b' ', b' ')\n",
      " (1391651308.858, 15, 9, 16858, b'N', b'ABX   ', b'          ', 18.53, 27, 18.54, 82, b'R', b'    ', b'N', b'N', 20389725, b'6', b'2', b'A', b'C', b'C', b' ', b' ', b' ', b' ', b' ', b'A')]\n"
     ]
    }
   ],
   "source": [
    "%time chunk = next(test.iter_)\n",
    "\n",
    "print( chunk )"
   ]
  },
  {
   "cell_type": "code",
   "execution_count": null,
   "metadata": {
    "collapsed": true
   },
   "outputs": [],
   "source": [
    "h5.append( chunk ) #does not work"
   ]
  },
  {
   "cell_type": "code",
   "execution_count": null,
   "metadata": {
    "collapsed": true
   },
   "outputs": [],
   "source": [
    "test.finalize_hdf5()\n",
    "\n",
    "h5 = tb.open_file('./20140206.h5')\n",
    "h5.root.daily_quotes[:]"
   ]
  },
  {
   "cell_type": "code",
   "execution_count": null,
   "metadata": {
    "collapsed": false
   },
   "outputs": [],
   "source": [
    "h5 = test.to_hdf5()"
   ]
  },
  {
   "cell_type": "markdown",
   "metadata": {},
   "source": [
    "runing h5 outside function"
   ]
  },
  {
   "cell_type": "code",
   "execution_count": 1,
   "metadata": {
    "collapsed": false
   },
   "outputs": [
    {
     "data": {
      "text/plain": [
       "<module 'raw_taq' from 'c:\\\\Users\\\\jie\\\\Documents\\\\GitHub\\\\dlab-finance\\\\basic-taq\\\\raw_taq.py'>"
      ]
     },
     "execution_count": 1,
     "metadata": {},
     "output_type": "execute_result"
    }
   ],
   "source": [
    "import numpy as np\n",
    "import tables as tb\n",
    "import raw_taq\n",
    "\n",
    "from importlib import reload\n",
    "reload(raw_taq)"
   ]
  },
  {
   "cell_type": "code",
   "execution_count": 2,
   "metadata": {
    "collapsed": true
   },
   "outputs": [],
   "source": [
    "fname = '../local_data/EQY_US_ALL_BBO_20140206.zip'\n",
    "test = raw_taq.TAQ2Chunks(fname,chunksize=10, do_process_chunk=True)"
   ]
  },
  {
   "cell_type": "code",
   "execution_count": 3,
   "metadata": {
    "collapsed": false
   },
   "outputs": [],
   "source": [
    "h5 = tb.open_file('20140206.h5', title='TAQ',mode='w', filters=tb.Filters(complevel=8, complib='blosc:lz4hc', fletcher32=True) )\n",
    "table = h5.create_table('/', 'daily_quotes', description = test.bytes_spec.pytables_desc, expectedrows=test.numlines)\n",
    "\n",
    "table.append(next(test.iter_))\n"
   ]
  },
  {
   "cell_type": "code",
   "execution_count": 4,
   "metadata": {
    "collapsed": false
   },
   "outputs": [
    {
     "data": {
      "text/plain": [
       "array([ (1391677200.901, 4, 0, 901, b'P', b'A     ', b'          ', 0.0, 0, 0.0, 0, b'R', b'    ', b'P', b'P', 14, b'2', b'2', b' ', b'C', b' ', b' ', b' ', b' ', b' ', b' ', b' '),\n",
       "       (1391688108.081, 7, 53, 81, b'P', b'A     ', b'          ', 0.0, 0, 72.94, 27, b'R', b'    ', b'P', b'P', 76255, b'1', b'2', b' ', b'C', b' ', b' ', b' ', b' ', b' ', b' ', b' '),\n",
       "       (1391688108.085, 7, 53, 85, b'P', b'A     ', b'          ', 0.0, 0, 60.76, 10, b'R', b'    ', b'P', b'P', 76256, b'1', b'2', b' ', b'C', b' ', b' ', b' ', b' ', b' ', b' ', b' '),\n",
       "       (1391688108.089, 7, 53, 89, b'P', b'A     ', b'          ', 41.9, 27, 60.76, 10, b'R', b'    ', b'P', b'P', 76257, b'1', b'2', b' ', b'C', b' ', b' ', b' ', b' ', b' ', b' ', b' '),\n",
       "       (1391688108.094, 7, 53, 94, b'P', b'A     ', b'          ', 54.07, 27, 60.76, 10, b'R', b'    ', b'P', b'P', 76258, b'1', b'2', b' ', b'C', b' ', b' ', b' ', b' ', b' ', b' ', b' '),\n",
       "       (1391688036.249, 7, 56, 4249, b'P', b'A     ', b'          ', 57.43, 1, 60.76, 10, b'R', b'    ', b'P', b'P', 78938, b'1', b'2', b' ', b'C', b' ', b' ', b' ', b' ', b' ', b' ', b' '),\n",
       "       (1391691600.37, 8, 0, 370, b'K', b'A     ', b'          ', 56.07, 3, 64.0, 1, b'R', b'    ', b'K', b'K', 81017, b'0', b'2', b' ', b'C', b' ', b' ', b' ', b' ', b' ', b' ', b' '),\n",
       "       (1391691601.006, 8, 0, 1006, b'T', b'A     ', b'          ', 0.0, 0, 63.29, 1, b'R', b'    ', b'T', b'T', 81225, b'0', b'2', b' ', b'C', b' ', b' ', b' ', b' ', b' ', b' ', b' '),\n",
       "       (1391691606.433, 8, 0, 6433, b'T', b'A     ', b'          ', 0.0, 0, 0.0, 0, b'R', b'    ', b'T', b'T', 81598, b'0', b'2', b' ', b'C', b' ', b' ', b' ', b' ', b' ', b' ', b' '),\n",
       "       (1391691606.437, 8, 0, 6437, b'T', b'A     ', b'          ', 0.0, 0, 63.3, 1, b'R', b'    ', b'T', b'T', 81606, b'0', b'2', b' ', b'C', b' ', b' ', b' ', b' ', b' ', b' ', b' ')], \n",
       "      dtype=[('Time', '<f8'), ('hour', 'i1'), ('minute', 'i1'), ('msec', '<u2'), ('Exchange', 'S1'), ('Symbol_root', 'S6'), ('Symbol_suffix', 'S10'), ('Bid_Price', '<f8'), ('Bid_Size', '<i4'), ('Ask_Price', '<f8'), ('Ask_Size', '<i4'), ('Quote_Condition', 'S1'), ('Market_Maker', 'S4'), ('Bid_Exchange', 'S1'), ('Ask_Exchange', 'S1'), ('Sequence_Number', '<i8'), ('National_BBO_Ind', 'S1'), ('NASDAQ_BBO_Ind', 'S1'), ('Quote_Cancel_Correction', 'S1'), ('Source_of_Quote', 'S1'), ('Retail_Interest_Indicator_RPI', 'S1'), ('Short_Sale_Restriction_Indicator', 'S1'), ('LULD_BBO_Indicator_CQS', 'S1'), ('LULD_BBO_Indicator_UTP', 'S1'), ('FINRA_ADF_MPID_Indicator', 'S1'), ('SIP_generated_Message_Identifier', 'S1'), ('National_BBO_LULD_Indicator', 'S1')])"
      ]
     },
     "execution_count": 4,
     "metadata": {},
     "output_type": "execute_result"
    }
   ],
   "source": [
    "h5 = tb.open_file('./20140206.h5')\n",
    "h5.root.daily_quotes[:]"
   ]
  },
  {
   "cell_type": "code",
   "execution_count": null,
   "metadata": {
    "collapsed": true
   },
   "outputs": [],
   "source": [
    "h5.close()"
   ]
  },
  {
   "cell_type": "code",
   "execution_count": null,
   "metadata": {
    "collapsed": true
   },
   "outputs": [],
   "source": []
  }
 ],
 "metadata": {
  "kernelspec": {
   "display_name": "Python 3",
   "language": "python",
   "name": "python3"
  },
  "language_info": {
   "codemirror_mode": {
    "name": "ipython",
    "version": 3
   },
   "file_extension": ".py",
   "mimetype": "text/x-python",
   "name": "python",
   "nbconvert_exporter": "python",
   "pygments_lexer": "ipython3",
   "version": "3.4.3"
  }
 },
 "nbformat": 4,
 "nbformat_minor": 0
}
