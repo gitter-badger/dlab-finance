{
 "cells": [
  {
   "cell_type": "code",
   "execution_count": 1,
   "metadata": {
    "collapsed": false
   },
   "outputs": [],
   "source": [
    "import numpy as np\n",
    "import tables as tb\n",
    "from datetime import datetime\n",
    "from pytz import timezone"
   ]
  },
  {
   "cell_type": "code",
   "execution_count": 2,
   "metadata": {
    "collapsed": true
   },
   "outputs": [],
   "source": [
    "import raw_taq_new"
   ]
  },
  {
   "cell_type": "markdown",
   "metadata": {},
   "source": [
    "You can run this cell to reload raw_taq_new instead of restarting the kernel"
   ]
  },
  {
   "cell_type": "code",
   "execution_count": null,
   "metadata": {
    "collapsed": false
   },
   "outputs": [],
   "source": [
    "from importlib import reload\n",
    "reload(raw_taq_new)"
   ]
  },
  {
   "cell_type": "markdown",
   "metadata": {},
   "source": [
    "The two `sample = ...` lines below allow comparison of processed to not-processed reading. Currently, processing is still very slow."
   ]
  },
  {
   "cell_type": "code",
   "execution_count": 4,
   "metadata": {
    "collapsed": false
   },
   "outputs": [],
   "source": [
    "sample = raw_taq_new.TAQ2Chunks('../local_data/EQY_US_ALL_BBO_20150102.zip', do_process_chunk=False)"
   ]
  },
  {
   "cell_type": "code",
   "execution_count": 3,
   "metadata": {
    "collapsed": false
   },
   "outputs": [],
   "source": [
    "sample = raw_taq_new.TAQ2Chunks('../local_data/EQY_US_ALL_BBO_20150102.zip', do_process_chunk=True)"
   ]
  },
  {
   "cell_type": "code",
   "execution_count": 4,
   "metadata": {
    "collapsed": false
   },
   "outputs": [
    {
     "data": {
      "text/plain": [
       "(1, 2, 2015)"
      ]
     },
     "execution_count": 4,
     "metadata": {},
     "output_type": "execute_result"
    }
   ],
   "source": [
    "sample.month, sample.day, sample.year"
   ]
  },
  {
   "cell_type": "code",
   "execution_count": 5,
   "metadata": {
    "collapsed": false
   },
   "outputs": [
    {
     "name": "stdout",
     "output_type": "stream",
     "text": [
      " "
     ]
    }
   ],
   "source": [
    "%prun c = next(sample)"
   ]
  },
  {
   "cell_type": "code",
   "execution_count": 6,
   "metadata": {
    "collapsed": false
   },
   "outputs": [
    {
     "data": {
      "text/plain": [
       "dtype([('Time', '<f8'), ('hour', 'i1'), ('minute', 'i1'), ('msec', '<u2'), ('Exchange', 'S1'), ('Symbol_root', 'S6'), ('Symbol_suffix', 'S10'), ('Bid_Price', '<f8'), ('Bid_Size', '<i4'), ('Ask_Price', '<f8'), ('Ask_Size', '<i4'), ('Quote_Condition', 'S1'), ('Market_Maker', 'S4'), ('Bid_Exchange', 'S1'), ('Ask_Exchange', 'S1'), ('Sequence_Number', '<i8'), ('National_BBO_Ind', 'S1'), ('NASDAQ_BBO_Ind', 'S1'), ('Quote_Cancel_Correction', 'S1'), ('Source_of_Quote', 'S1'), ('Retail_Interest_Indicator_RPI', 'S1'), ('Short_Sale_Restriction_Indicator', 'S1'), ('LULD_BBO_Indicator_CQS', 'S1'), ('LULD_BBO_Indicator_UTP', 'S1'), ('FINRA_ADF_MPID_Indicator', 'S1'), ('SIP_generated_Message_Identifier', 'S1'), ('National_BBO_LULD_Indicator', 'S1')])"
      ]
     },
     "execution_count": 6,
     "metadata": {},
     "output_type": "execute_result"
    }
   ],
   "source": [
    "c.dtype"
   ]
  },
  {
   "cell_type": "code",
   "execution_count": 7,
   "metadata": {
    "collapsed": false
   },
   "outputs": [],
   "source": [
    "h5_table = sample.setup_hdf5('sample')"
   ]
  },
  {
   "cell_type": "code",
   "execution_count": 8,
   "metadata": {
    "collapsed": true
   },
   "outputs": [],
   "source": [
    "h5_table.append(c)"
   ]
  },
  {
   "cell_type": "code",
   "execution_count": 9,
   "metadata": {
    "collapsed": true
   },
   "outputs": [],
   "source": [
    "sample.finalize_hdf5()"
   ]
  },
  {
   "cell_type": "code",
   "execution_count": 10,
   "metadata": {
    "collapsed": false
   },
   "outputs": [],
   "source": [
    "h5f = tb.open_file('sample.h5')"
   ]
  },
  {
   "cell_type": "code",
   "execution_count": 11,
   "metadata": {
    "collapsed": false
   },
   "outputs": [],
   "source": [
    "h5_table = h5f.root.daily_quotes"
   ]
  },
  {
   "cell_type": "code",
   "execution_count": 12,
   "metadata": {
    "collapsed": false
   },
   "outputs": [
    {
     "data": {
      "text/plain": [
       "array(['2015-01-02T01:00:00-0800', '2015-01-02T02:59:57-0800',\n",
       "       '2015-01-02T02:59:57-0800', '2015-01-02T02:59:57-0800',\n",
       "       '2015-01-02T02:59:31-0800', '2015-01-02T03:00:11-0800',\n",
       "       '2015-01-02T05:00:00-0800', '2015-01-02T04:58:52-0800',\n",
       "       '2015-01-02T04:58:52-0800', '2015-01-02T04:58:52-0800'], dtype='datetime64[s]')"
      ]
     },
     "execution_count": 12,
     "metadata": {},
     "output_type": "execute_result"
    }
   ],
   "source": [
    "# This displays in the locale timezone by default... \n",
    "# You need to use datetime or pandas to use arbitrary timezones\n",
    "dtimes = h5_table.cols.Time[:10].astype('datetime64[s]')\n",
    "dtimes"
   ]
  },
  {
   "cell_type": "code",
   "execution_count": 13,
   "metadata": {
    "collapsed": false
   },
   "outputs": [
    {
     "data": {
      "text/plain": [
       "datetime.datetime(2015, 1, 2, 4, 0, 0, 16000, tzinfo=<DstTzInfo 'US/Eastern' EST-1 day, 19:00:00 STD>)"
      ]
     },
     "execution_count": 13,
     "metadata": {},
     "output_type": "execute_result"
    }
   ],
   "source": [
    "# Finally getting this right!\n",
    "datetime.fromtimestamp(h5_table.cols.Time[0], timezone('US/Eastern'))"
   ]
  },
  {
   "cell_type": "code",
   "execution_count": 14,
   "metadata": {
    "collapsed": true
   },
   "outputs": [],
   "source": [
    "h5f.close()"
   ]
  },
  {
   "cell_type": "code",
   "execution_count": 15,
   "metadata": {
    "collapsed": false
   },
   "outputs": [
    {
     "data": {
      "text/plain": [
       "array([(4, 0, 16), (6, 21, 17175), (6, 21, 17180), (6, 21, 17185),\n",
       "       (6, 37, 55503), (6, 38, 35541), (8, 0, 310), (8, 28, 44507),\n",
       "       (8, 28, 44509), (8, 28, 44511)], \n",
       "      dtype=[('hour', 'i1'), ('minute', 'i1'), ('msec', '<u2')])"
      ]
     },
     "execution_count": 15,
     "metadata": {},
     "output_type": "execute_result"
    }
   ],
   "source": [
    "# These should be eastern time\n",
    "c[:10][['hour', 'minute', 'msec']]"
   ]
  },
  {
   "cell_type": "code",
   "execution_count": 16,
   "metadata": {
    "collapsed": false
   },
   "outputs": [
    {
     "data": {
      "text/plain": [
       "[('Time', numpy.float64),\n",
       " ('hour', numpy.int8),\n",
       " ('minute', numpy.int8),\n",
       " ('msec', numpy.uint16),\n",
       " ('Exchange', 'S1'),\n",
       " ('Symbol_root', 'S6'),\n",
       " ('Symbol_suffix', 'S10'),\n",
       " ('Bid_Price', numpy.float64),\n",
       " ('Bid_Size', numpy.int32),\n",
       " ('Ask_Price', numpy.float64),\n",
       " ('Ask_Size', numpy.int32),\n",
       " ('Quote_Condition', 'S1'),\n",
       " ('Market_Maker', 'S4'),\n",
       " ('Bid_Exchange', 'S1'),\n",
       " ('Ask_Exchange', 'S1'),\n",
       " ('Sequence_Number', numpy.int64),\n",
       " ('National_BBO_Ind', 'S1'),\n",
       " ('NASDAQ_BBO_Ind', 'S1'),\n",
       " ('Quote_Cancel_Correction', 'S1'),\n",
       " ('Source_of_Quote', 'S1'),\n",
       " ('Retail_Interest_Indicator_RPI', 'S1'),\n",
       " ('Short_Sale_Restriction_Indicator', 'S1'),\n",
       " ('LULD_BBO_Indicator_CQS', 'S1'),\n",
       " ('LULD_BBO_Indicator_UTP', 'S1'),\n",
       " ('FINRA_ADF_MPID_Indicator', 'S1'),\n",
       " ('SIP_generated_Message_Identifier', 'S1'),\n",
       " ('National_BBO_LULD_Indicator', 'S1')]"
      ]
     },
     "execution_count": 16,
     "metadata": {},
     "output_type": "execute_result"
    }
   ],
   "source": [
    "sample.bytes_spec.target_dtype"
   ]
  },
  {
   "cell_type": "code",
   "execution_count": 17,
   "metadata": {
    "collapsed": false
   },
   "outputs": [
    {
     "data": {
      "text/plain": [
       "{'Ask_Exchange': StringCol(itemsize=1, shape=(), dflt=b'', pos=14),\n",
       " 'Ask_Price': Float64Col(shape=(), dflt=0.0, pos=9),\n",
       " 'Ask_Size': Int32Col(shape=(), dflt=0, pos=10),\n",
       " 'Bid_Exchange': StringCol(itemsize=1, shape=(), dflt=b'', pos=13),\n",
       " 'Bid_Price': Float64Col(shape=(), dflt=0.0, pos=7),\n",
       " 'Bid_Size': Int32Col(shape=(), dflt=0, pos=8),\n",
       " 'Exchange': StringCol(itemsize=1, shape=(), dflt=b'', pos=4),\n",
       " 'FINRA_ADF_MPID_Indicator': StringCol(itemsize=1, shape=(), dflt=b'', pos=24),\n",
       " 'LULD_BBO_Indicator_CQS': StringCol(itemsize=1, shape=(), dflt=b'', pos=22),\n",
       " 'LULD_BBO_Indicator_UTP': StringCol(itemsize=1, shape=(), dflt=b'', pos=23),\n",
       " 'Market_Maker': StringCol(itemsize=4, shape=(), dflt=b'', pos=12),\n",
       " 'NASDAQ_BBO_Ind': StringCol(itemsize=1, shape=(), dflt=b'', pos=17),\n",
       " 'National_BBO_Ind': StringCol(itemsize=1, shape=(), dflt=b'', pos=16),\n",
       " 'National_BBO_LULD_Indicator': StringCol(itemsize=1, shape=(), dflt=b'', pos=26),\n",
       " 'Quote_Cancel_Correction': StringCol(itemsize=1, shape=(), dflt=b'', pos=18),\n",
       " 'Quote_Condition': StringCol(itemsize=1, shape=(), dflt=b'', pos=11),\n",
       " 'Retail_Interest_Indicator_RPI': StringCol(itemsize=1, shape=(), dflt=b'', pos=20),\n",
       " 'SIP_generated_Message_Identifier': StringCol(itemsize=1, shape=(), dflt=b'', pos=25),\n",
       " 'Sequence_Number': Int64Col(shape=(), dflt=0, pos=15),\n",
       " 'Short_Sale_Restriction_Indicator': StringCol(itemsize=1, shape=(), dflt=b'', pos=21),\n",
       " 'Source_of_Quote': StringCol(itemsize=1, shape=(), dflt=b'', pos=19),\n",
       " 'Symbol_root': StringCol(itemsize=6, shape=(), dflt=b'', pos=5),\n",
       " 'Symbol_suffix': StringCol(itemsize=10, shape=(), dflt=b'', pos=6),\n",
       " 'Time': Float64Col(shape=(), dflt=0.0, pos=0),\n",
       " 'hour': Int8Col(shape=(), dflt=0, pos=1),\n",
       " 'minute': Int8Col(shape=(), dflt=0, pos=2),\n",
       " 'msec': UInt16Col(shape=(), dflt=0, pos=3)}"
      ]
     },
     "execution_count": 17,
     "metadata": {},
     "output_type": "execute_result"
    }
   ],
   "source": [
    "sample.bytes_spec.pytables_desc"
   ]
  },
  {
   "cell_type": "code",
   "execution_count": null,
   "metadata": {
    "collapsed": true
   },
   "outputs": [],
   "source": []
  }
 ],
 "metadata": {
  "kernelspec": {
   "display_name": "Python 3",
   "language": "python",
   "name": "python3"
  },
  "language_info": {
   "codemirror_mode": {
    "name": "ipython",
    "version": 3
   },
   "file_extension": ".py",
   "mimetype": "text/x-python",
   "name": "python",
   "nbconvert_exporter": "python",
   "pygments_lexer": "ipython3",
   "version": "3.4.3"
  }
 },
 "nbformat": 4,
 "nbformat_minor": 0
}
