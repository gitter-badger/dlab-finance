{
 "cells": [
  {
   "cell_type": "markdown",
   "metadata": {},
   "source": [
    "# Using generators to get numpy chunks out of TAQ data"
   ]
  },
  {
   "cell_type": "code",
   "execution_count": 28,
   "metadata": {
    "collapsed": false
   },
   "outputs": [],
   "source": [
    "from statistics import mode\n",
    "\n",
    "def print_stats(chunk):\n",
    "    #find the max bid price\n",
    "    max_price = max(chunk['Bid_Price'])\n",
    "\n",
    "    #find the min bid price\n",
    "    min_price = min(chunk['Bid_Price'])\n",
    "\n",
    "    #find the mean of bid price\n",
    "    avg_price = np.mean(chunk['Bid_Price'])\n",
    "\n",
    "    #find the mod of bid price\n",
    "    try:\n",
    "        mod_price = mode(chunk['Bid_Price'])\n",
    "    except StatisticsError:\n",
    "        mod_price = np.nan\n",
    "        \n",
    "    #find the sd of bid price\n",
    "    sd_price = np.std(chunk['Bid_Price'])\n",
    "\n",
    "    print(\"Max bid price: \", max_price, \"\\n\", \"Min bid price: \", min_price, \"\\n\", \n",
    "          \"Mean bid price: \", avg_price, \"\\n\", \"Mod bid price: \", mod_price, \"\\n\",\n",
    "          \"Standard deviation bid price: \", sd_price)"
   ]
  },
  {
   "cell_type": "code",
   "execution_count": 1,
   "metadata": {
    "collapsed": false
   },
   "outputs": [],
   "source": [
    "from glob import glob\n",
    "from glob import glob\n",
    "from itertools import (islice, zip_longest)\n",
    "from collections import Counter\n",
    "import numpy as np\n",
    "from collections import Counter\n",
    "from itertools import islice\n",
    "import raw_taq_new"
   ]
  },
  {
   "cell_type": "code",
   "execution_count": 2,
   "metadata": {
    "collapsed": false
   },
   "outputs": [
    {
     "data": {
      "text/plain": [
       "<module 'raw_taq_new' from 'c:\\\\Users\\\\jie\\\\Documents\\\\GitHub\\\\dlab-finance\\\\basic-taq\\\\raw_taq_new.py'>"
      ]
     },
     "execution_count": 2,
     "metadata": {},
     "output_type": "execute_result"
    }
   ],
   "source": [
    "# You can run this if you update the raw_taq.py file\n",
    "from importlib import reload\n",
    "reload(raw_taq_new)"
   ]
  },
  {
   "cell_type": "markdown",
   "metadata": {},
   "source": [
    "### Here, we grab whatever BBO file we can find"
   ]
  },
  {
   "cell_type": "code",
   "execution_count": 16,
   "metadata": {
    "collapsed": false
   },
   "outputs": [],
   "source": [
    "fname = '../local_data/EQY_US_ALL_BBO_20140206.zip'\n",
    "chunks = raw_taq_new.TAQ2Chunks(fname,chunksize=10, do_process_chunk=False)"
   ]
  },
  {
   "cell_type": "code",
   "execution_count": 17,
   "metadata": {
    "collapsed": false
   },
   "outputs": [],
   "source": [
    "chunk_gen = chunks.convert_taq()"
   ]
  },
  {
   "cell_type": "code",
   "execution_count": 18,
   "metadata": {
    "collapsed": false
   },
   "outputs": [
    {
     "data": {
      "text/plain": [
       "generator"
      ]
     },
     "execution_count": 18,
     "metadata": {},
     "output_type": "execute_result"
    }
   ],
   "source": [
    "type(chunk_gen)"
   ]
  },
  {
   "cell_type": "code",
   "execution_count": 19,
   "metadata": {
    "collapsed": false
   },
   "outputs": [
    {
     "ename": "TypeError",
     "evalue": "'NoneType' object is not subscriptable",
     "output_type": "error",
     "traceback": [
      "\u001b[1;31m---------------------------------------------------------------------------\u001b[0m",
      "\u001b[1;31mTypeError\u001b[0m                                 Traceback (most recent call last)",
      "\u001b[1;32m<ipython-input-19-c6a918482c1a>\u001b[0m in \u001b[0;36m<module>\u001b[1;34m()\u001b[0m\n\u001b[0;32m      1\u001b[0m \u001b[1;31m# You can get one chunk this way\u001b[0m\u001b[1;33m\u001b[0m\u001b[1;33m\u001b[0m\u001b[0m\n\u001b[0;32m      2\u001b[0m \u001b[0mchunk\u001b[0m \u001b[1;33m=\u001b[0m \u001b[0mnext\u001b[0m\u001b[1;33m(\u001b[0m\u001b[0mchunk_gen\u001b[0m\u001b[1;33m)\u001b[0m\u001b[1;33m\u001b[0m\u001b[0m\n\u001b[1;32m----> 3\u001b[1;33m \u001b[0mchunk\u001b[0m\u001b[1;33m[\u001b[0m\u001b[1;36m0\u001b[0m\u001b[1;33m]\u001b[0m\u001b[1;33m\u001b[0m\u001b[0m\n\u001b[0m",
      "\u001b[1;31mTypeError\u001b[0m: 'NoneType' object is not subscriptable"
     ]
    }
   ],
   "source": [
    "# You can get one chunk this way\n",
    "chunk = next(chunk_gen)\n",
    "chunk[0]"
   ]
  },
  {
   "cell_type": "code",
   "execution_count": 20,
   "metadata": {
    "collapsed": false
   },
   "outputs": [
    {
     "data": {
      "text/plain": [
       "dtype([('hour', 'S2'), ('minute', 'S2'), ('msec', 'S5'), ('Exchange', 'S1'), ('Symbol_root', 'S6'), ('Symbol_suffix', 'S10'), ('Bid_Price', 'S11'), ('Bid_Size', 'S7'), ('Ask_Price', 'S11'), ('Ask_Size', 'S7'), ('Quote_Condition', 'S1'), ('Market_Maker', 'S4'), ('Bid_Exchange', 'S1'), ('Ask_Exchange', 'S1'), ('Sequence_Number', 'S16'), ('National_BBO_Ind', 'S1'), ('NASDAQ_BBO_Ind', 'S1'), ('Quote_Cancel_Correction', 'S1'), ('Source_of_Quote', 'S1'), ('Retail_Interest_Indicator_RPI', 'S1'), ('Short_Sale_Restriction_Indicator', 'S1'), ('LULD_BBO_Indicator_CQS', 'S1'), ('LULD_BBO_Indicator_UTP', 'S1'), ('FINRA_ADF_MPID_Indicator', 'S1'), ('SIP_generated_Message_Identifier', 'S1'), ('National_BBO_LULD_Indicator', 'S1'), ('newline', 'S2')])"
      ]
     },
     "execution_count": 20,
     "metadata": {},
     "output_type": "execute_result"
    }
   ],
   "source": [
    "# If you want just the type\n",
    "chunk.dtype"
   ]
  },
  {
   "cell_type": "code",
   "execution_count": 21,
   "metadata": {
    "collapsed": false
   },
   "outputs": [
    {
     "name": "stdout",
     "output_type": "stream",
     "text": [
      "[b'00000000000' b'00000000000' b'00000000000' b'00000419000' b'00000540700'\n",
      " b'00000574300' b'00000560700' b'00000000000' b'00000000000' b'00000000000']\n",
      "[b'00000000000' b'00000729400' b'00000607600' b'00000607600' b'00000607600'\n",
      " b'00000607600' b'00000640000' b'00000632900' b'00000000000' b'00000633000']\n"
     ]
    }
   ],
   "source": [
    "# Numpy record arrays support string indexing to get columns\n",
    "print(chunk['Bid_Price'])\n",
    "print(chunk[\"Ask_Price\"])"
   ]
  },
  {
   "cell_type": "code",
   "execution_count": 1,
   "metadata": {
    "collapsed": true
   },
   "outputs": [],
   "source": [
    "from glob import glob\n",
    "from glob import glob\n",
    "from itertools import (islice, zip_longest)\n",
    "from collections import Counter\n",
    "import numpy as np\n",
    "from collections import Counter\n",
    "from itertools import islice\n",
    "import raw_taq"
   ]
  },
  {
   "cell_type": "code",
   "execution_count": 2,
   "metadata": {
    "collapsed": false
   },
   "outputs": [
    {
     "data": {
      "text/plain": [
       "<module 'raw_taq' from 'c:\\\\Users\\\\jie\\\\Documents\\\\GitHub\\\\dlab-finance\\\\basic-taq\\\\raw_taq.py'>"
      ]
     },
     "execution_count": 2,
     "metadata": {},
     "output_type": "execute_result"
    }
   ],
   "source": [
    "from importlib import reload\n",
    "reload(raw_taq)"
   ]
  },
  {
   "cell_type": "code",
   "execution_count": 3,
   "metadata": {
    "collapsed": false
   },
   "outputs": [],
   "source": [
    "fname = '../local_data/EQY_US_ALL_BBO_20140206.zip'\n",
    "chunks = raw_taq.TAQ2Chunks(fname,chunksize=10, do_process_chunk=True)"
   ]
  },
  {
   "cell_type": "code",
   "execution_count": null,
   "metadata": {
    "collapsed": false
   },
   "outputs": [],
   "source": [
    "%time chunks.to_hdf5()"
   ]
  },
  {
   "cell_type": "code",
   "execution_count": 4,
   "metadata": {
    "collapsed": false
   },
   "outputs": [],
   "source": [
    "import tables as tb\n",
    "h5 = tb.open_file('20140206.h5', title='TAQ',mode='w', filters=tb.Filters(complevel=8, complib='blosc:lz4hc', fletcher32=True) )\n",
    "table = h5.create_table('/', 'daily_quotes', description = chunks.bytes_spec.pytables_desc, expectedrows=chunks.numlines)\n",
    "\n",
    "table.append(next(chunks.iter_))\n"
   ]
  },
  {
   "cell_type": "code",
   "execution_count": 7,
   "metadata": {
    "collapsed": false
   },
   "outputs": [
    {
     "name": "stdout",
     "output_type": "stream",
     "text": [
      "[('hour', 'S2'), ('minute', 'S2'), ('msec', 'S5'), ('Exchange', 'S1'), ('Symbol_root', 'S6'), ('Symbol_suffix', 'S10'), ('Bid_Price', 'S11'), ('Bid_Size', 'S7'), ('Ask_Price', 'S11'), ('Ask_Size', 'S7'), ('Quote_Condition', 'S1'), ('Market_Maker', 'S4'), ('Bid_Exchange', 'S1'), ('Ask_Exchange', 'S1'), ('Sequence_Number', 'S16'), ('National_BBO_Ind', 'S1'), ('NASDAQ_BBO_Ind', 'S1'), ('Quote_Cancel_Correction', 'S1'), ('Source_of_Quote', 'S1'), ('Retail_Interest_Indicator_RPI', 'S1'), ('Short_Sale_Restriction_Indicator', 'S1'), ('LULD_BBO_Indicator_CQS', 'S1'), ('LULD_BBO_Indicator_UTP', 'S1'), ('FINRA_ADF_MPID_Indicator', 'S1'), ('SIP_generated_Message_Identifier', 'S1'), ('National_BBO_LULD_Indicator', 'S1'), ('newline', 'S2')]\n"
     ]
    }
   ],
   "source": [
    "print(chunks.bytes_spec.initial_dtype)"
   ]
  },
  {
   "cell_type": "code",
   "execution_count": 17,
   "metadata": {
    "collapsed": false
   },
   "outputs": [
    {
     "data": {
      "text/plain": [
       "{'Ask_Exchange': StringCol(itemsize=1, shape=(), dflt=b'', pos=14),\n",
       " 'Ask_Price': Float64Col(shape=(), dflt=0.0, pos=9),\n",
       " 'Ask_Size': Int32Col(shape=(), dflt=0, pos=10),\n",
       " 'Bid_Exchange': StringCol(itemsize=1, shape=(), dflt=b'', pos=13),\n",
       " 'Bid_Price': Float64Col(shape=(), dflt=0.0, pos=7),\n",
       " 'Bid_Size': Int32Col(shape=(), dflt=0, pos=8),\n",
       " 'Exchange': StringCol(itemsize=1, shape=(), dflt=b'', pos=4),\n",
       " 'FINRA_ADF_MPID_Indicator': StringCol(itemsize=1, shape=(), dflt=b'', pos=24),\n",
       " 'LULD_BBO_Indicator_CQS': StringCol(itemsize=1, shape=(), dflt=b'', pos=22),\n",
       " 'LULD_BBO_Indicator_UTP': StringCol(itemsize=1, shape=(), dflt=b'', pos=23),\n",
       " 'Market_Maker': StringCol(itemsize=4, shape=(), dflt=b'', pos=12),\n",
       " 'NASDAQ_BBO_Ind': StringCol(itemsize=1, shape=(), dflt=b'', pos=17),\n",
       " 'National_BBO_Ind': StringCol(itemsize=1, shape=(), dflt=b'', pos=16),\n",
       " 'National_BBO_LULD_Indicator': StringCol(itemsize=1, shape=(), dflt=b'', pos=26),\n",
       " 'Quote_Cancel_Correction': StringCol(itemsize=1, shape=(), dflt=b'', pos=18),\n",
       " 'Quote_Condition': StringCol(itemsize=1, shape=(), dflt=b'', pos=11),\n",
       " 'Retail_Interest_Indicator_RPI': StringCol(itemsize=1, shape=(), dflt=b'', pos=20),\n",
       " 'SIP_generated_Message_Identifier': StringCol(itemsize=1, shape=(), dflt=b'', pos=25),\n",
       " 'Sequence_Number': Int64Col(shape=(), dflt=0, pos=15),\n",
       " 'Short_Sale_Restriction_Indicator': StringCol(itemsize=1, shape=(), dflt=b'', pos=21),\n",
       " 'Source_of_Quote': StringCol(itemsize=1, shape=(), dflt=b'', pos=19),\n",
       " 'Symbol_root': StringCol(itemsize=6, shape=(), dflt=b'', pos=5),\n",
       " 'Symbol_suffix': StringCol(itemsize=10, shape=(), dflt=b'', pos=6),\n",
       " 'Time': Float64Col(shape=(), dflt=0.0, pos=0),\n",
       " 'hour': Int8Col(shape=(), dflt=0, pos=1),\n",
       " 'minute': Int8Col(shape=(), dflt=0, pos=2),\n",
       " 'msec': UInt16Col(shape=(), dflt=0, pos=3)}"
      ]
     },
     "execution_count": 17,
     "metadata": {},
     "output_type": "execute_result"
    }
   ],
   "source": [
    "chunks.bytes_spec.pytables_desc"
   ]
  },
  {
   "cell_type": "code",
   "execution_count": 8,
   "metadata": {
    "collapsed": false
   },
   "outputs": [
    {
     "data": {
      "text/plain": [
       "array([ (1391677200.901, 4, 0, 901, b'P', b'A     ', b'          ', 0.0, 0, 0.0, 0, b'R', b'    ', b'P', b'P', 14, b'2', b'2', b' ', b'C', b' ', b' ', b' ', b' ', b' ', b' ', b' '),\n",
       "       (1391688108.081, 7, 53, 81, b'P', b'A     ', b'          ', 0.0, 0, 72.94, 27, b'R', b'    ', b'P', b'P', 76255, b'1', b'2', b' ', b'C', b' ', b' ', b' ', b' ', b' ', b' ', b' '),\n",
       "       (1391688108.085, 7, 53, 85, b'P', b'A     ', b'          ', 0.0, 0, 60.76, 10, b'R', b'    ', b'P', b'P', 76256, b'1', b'2', b' ', b'C', b' ', b' ', b' ', b' ', b' ', b' ', b' '),\n",
       "       (1391688108.089, 7, 53, 89, b'P', b'A     ', b'          ', 41.9, 27, 60.76, 10, b'R', b'    ', b'P', b'P', 76257, b'1', b'2', b' ', b'C', b' ', b' ', b' ', b' ', b' ', b' ', b' '),\n",
       "       (1391688108.094, 7, 53, 94, b'P', b'A     ', b'          ', 54.07, 27, 60.76, 10, b'R', b'    ', b'P', b'P', 76258, b'1', b'2', b' ', b'C', b' ', b' ', b' ', b' ', b' ', b' ', b' '),\n",
       "       (1391688036.249, 7, 56, 4249, b'P', b'A     ', b'          ', 57.43, 1, 60.76, 10, b'R', b'    ', b'P', b'P', 78938, b'1', b'2', b' ', b'C', b' ', b' ', b' ', b' ', b' ', b' ', b' '),\n",
       "       (1391691600.37, 8, 0, 370, b'K', b'A     ', b'          ', 56.07, 3, 64.0, 1, b'R', b'    ', b'K', b'K', 81017, b'0', b'2', b' ', b'C', b' ', b' ', b' ', b' ', b' ', b' ', b' '),\n",
       "       (1391691601.006, 8, 0, 1006, b'T', b'A     ', b'          ', 0.0, 0, 63.29, 1, b'R', b'    ', b'T', b'T', 81225, b'0', b'2', b' ', b'C', b' ', b' ', b' ', b' ', b' ', b' ', b' '),\n",
       "       (1391691606.433, 8, 0, 6433, b'T', b'A     ', b'          ', 0.0, 0, 0.0, 0, b'R', b'    ', b'T', b'T', 81598, b'0', b'2', b' ', b'C', b' ', b' ', b' ', b' ', b' ', b' ', b' '),\n",
       "       (1391691606.437, 8, 0, 6437, b'T', b'A     ', b'          ', 0.0, 0, 63.3, 1, b'R', b'    ', b'T', b'T', 81606, b'0', b'2', b' ', b'C', b' ', b' ', b' ', b' ', b' ', b' ', b' ')], \n",
       "      dtype=[('Time', '<f8'), ('hour', 'i1'), ('minute', 'i1'), ('msec', '<u2'), ('Exchange', 'S1'), ('Symbol_root', 'S6'), ('Symbol_suffix', 'S10'), ('Bid_Price', '<f8'), ('Bid_Size', '<i4'), ('Ask_Price', '<f8'), ('Ask_Size', '<i4'), ('Quote_Condition', 'S1'), ('Market_Maker', 'S4'), ('Bid_Exchange', 'S1'), ('Ask_Exchange', 'S1'), ('Sequence_Number', '<i8'), ('National_BBO_Ind', 'S1'), ('NASDAQ_BBO_Ind', 'S1'), ('Quote_Cancel_Correction', 'S1'), ('Source_of_Quote', 'S1'), ('Retail_Interest_Indicator_RPI', 'S1'), ('Short_Sale_Restriction_Indicator', 'S1'), ('LULD_BBO_Indicator_CQS', 'S1'), ('LULD_BBO_Indicator_UTP', 'S1'), ('FINRA_ADF_MPID_Indicator', 'S1'), ('SIP_generated_Message_Identifier', 'S1'), ('National_BBO_LULD_Indicator', 'S1')])"
      ]
     },
     "execution_count": 8,
     "metadata": {},
     "output_type": "execute_result"
    }
   ],
   "source": [
    "h5 = tb.open_file('./20140206.h5')\n",
    "h5.root.daily_quotes[:]"
   ]
  },
  {
   "cell_type": "markdown",
   "metadata": {},
   "source": [
    "# Goal: Compute some summary statistics across a few securities in the TAQ file\n",
    "\n",
    "Processing an entire TAQ file will take a long time. So, maybe just run through the chunks for the first two securities (you can then exit out of a loop once you see the third security / symbol)."
   ]
  },
  {
   "cell_type": "markdown",
   "metadata": {},
   "source": [
    "## A complete approach"
   ]
  },
  {
   "cell_type": "code",
   "execution_count": 10,
   "metadata": {
    "collapsed": false
   },
   "outputs": [
    {
     "data": {
      "text/plain": [
       "dtype([('Exchange', 'S1'), ('Symbol', 'S16'), ('Bid_Price', '<f8'), ('Bid_Size', '<i4'), ('Ask_Price', '<f8'), ('Ask_Size', '<i4'), ('Quote_Condition', 'S1'), ('Bid_Exchange', 'S1'), ('Ask_Exchange', 'S1'), ('Sequence_Number', '<i8'), ('National_BBO_Ind', 'S1'), ('NASDAQ_BBO_Ind', 'S1'), ('Quote_Cancel_Correction', 'S1'), ('Source_of_Quote', 'S1'), ('Retail_Interest_Indicator_RPI', 'S1'), ('Short_Sale_Restriction_Indicator', 'S1'), ('LULD_BBO_Indicator_CQS', 'S1'), ('LULD_BBO_Indicator_UTP', 'S1'), ('FINRA_ADF_MPID_Indicator', 'S1'), ('SIP_generated_Message_Identifier', 'S1'), ('National_BBO_LULD_Indicator', 'S1'), ('Time', '<f8')])"
      ]
     },
     "execution_count": 10,
     "metadata": {},
     "output_type": "execute_result"
    }
   ],
   "source": [
    "chunk.dtype"
   ]
  },
  {
   "cell_type": "code",
   "execution_count": 8,
   "metadata": {
    "collapsed": false
   },
   "outputs": [],
   "source": [
    "fname = glob('../local_data/EQY_US_ALL_BBO_*.zip')[0]\n",
    "local_taq = raw_taq.TAQ2Chunks(fname)\n",
    "\n",
    "chunk_gen = local_taq.convert_taq(20)\n",
    "first_chunk = next(chunk_gen)\n",
    "curr_symbol = first_chunk['Symbol_root'][0]\n",
    "\n",
    "accum = pd.DataFrame(first_chunk)\n",
    "\n",
    "processed_symbols = 0\n",
    "\n",
    "for chunk in chunk_gen:\n",
    "    where_symbol = curr_symbol == chunk['Symbol_root']\n",
    "    if where_symbol.all():\n",
    "        accum.append(pd.DataFrame(chunk))\n",
    "    else:\n",
    "        same = chunk[where_symbol]\n",
    "        accum.append(pd.DataFrame(same))\n",
    "        \n",
    "        # Compute the stats\n",
    "        print('Current symbol:', curr_symbol, len(curr_symbol), 'records')\n",
    "        print_stats(accum)\n",
    "        processed_symbols += 1\n",
    "        if processed_symbols > 3:\n",
    "            break\n",
    "        \n",
    "        diff = chunk[~where_symbol]\n",
    "        accum = pd.DataFrame(diff)\n",
    "        curr_symbol = accum.Symbol_root[0]"
   ]
  },
  {
   "cell_type": "code",
   "execution_count": 9,
   "metadata": {
    "collapsed": false
   },
   "outputs": [
    {
     "data": {
      "text/plain": [
       "True"
      ]
     },
     "execution_count": 9,
     "metadata": {},
     "output_type": "execute_result"
    }
   ],
   "source": [
    "b'AA              ' == b'AA              '"
   ]
  },
  {
   "cell_type": "markdown",
   "metadata": {},
   "source": [
    "# some simple examples of how generator functions work"
   ]
  },
  {
   "cell_type": "code",
   "execution_count": 16,
   "metadata": {
    "collapsed": false
   },
   "outputs": [],
   "source": [
    "def simple_fun(l):\n",
    "    for item in l:\n",
    "        yield item"
   ]
  },
  {
   "cell_type": "code",
   "execution_count": 17,
   "metadata": {
    "collapsed": false
   },
   "outputs": [],
   "source": [
    "simple_gen = simple_fun(['a', 'b', 1, 2])"
   ]
  },
  {
   "cell_type": "code",
   "execution_count": 18,
   "metadata": {
    "collapsed": false
   },
   "outputs": [
    {
     "data": {
      "text/plain": [
       "generator"
      ]
     },
     "execution_count": 18,
     "metadata": {},
     "output_type": "execute_result"
    }
   ],
   "source": [
    "type(simple_gen)"
   ]
  },
  {
   "cell_type": "code",
   "execution_count": 19,
   "metadata": {
    "collapsed": false
   },
   "outputs": [
    {
     "data": {
      "text/plain": [
       "'a'"
      ]
     },
     "execution_count": 19,
     "metadata": {},
     "output_type": "execute_result"
    }
   ],
   "source": [
    "next(simple_gen)"
   ]
  },
  {
   "cell_type": "code",
   "execution_count": 20,
   "metadata": {
    "collapsed": false
   },
   "outputs": [
    {
     "name": "stdout",
     "output_type": "stream",
     "text": [
      "a\n",
      "b\n",
      "1\n",
      "2\n"
     ]
    }
   ],
   "source": [
    "for item in simple_fun(['a', 'b', 1, 2]):\n",
    "    print(item)"
   ]
  },
  {
   "cell_type": "code",
   "execution_count": null,
   "metadata": {
    "collapsed": true
   },
   "outputs": [],
   "source": []
  }
 ],
 "metadata": {
  "kernelspec": {
   "display_name": "Python 3",
   "language": "python",
   "name": "python3"
  },
  "language_info": {
   "codemirror_mode": {
    "name": "ipython",
    "version": 3
   },
   "file_extension": ".py",
   "mimetype": "text/x-python",
   "name": "python",
   "nbconvert_exporter": "python",
   "pygments_lexer": "ipython3",
   "version": "3.4.3"
  }
 },
 "nbformat": 4,
 "nbformat_minor": 0
}
