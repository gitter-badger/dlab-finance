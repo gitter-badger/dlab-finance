{
 "cells": [
  {
   "cell_type": "code",
   "execution_count": 3,
   "metadata": {
    "collapsed": true
   },
   "outputs": [],
   "source": [
    "from zipfile import ZipFile\n",
    "import numpy as np\n",
    "import tables as tb"
   ]
  },
  {
   "cell_type": "code",
   "execution_count": 4,
   "metadata": {
    "collapsed": false
   },
   "outputs": [],
   "source": [
    "fname = '../local_data/EQY_US_ALL_BBO_20140206.zip'"
   ]
  },
  {
   "cell_type": "markdown",
   "metadata": {},
   "source": [
    "```\n",
    "fields of dailyquotes file taqquote\n",
    "[0:8]HHMMSSXXX\n",
    "[9] text EXCHANGE N Nyse  T/Q NASDAQ\n",
    "[10:25] text symbol 6+10\n",
    "[26:36] bid price 7+4\n",
    "[37:43] bid size (units)\n",
    "[44:54] ask price 7+4\n",
    "[55:61] ask size\n",
    "[62] text Condition of quote\n",
    "[63:66] market maker\n",
    "[67] bid exchange\n",
    "[68] ask aexchange\n",
    "[69:84] int seqno\n",
    "[85] int bbo indicator\n",
    "[86] int NASDAQ BBO indocator\n",
    "[87] text cancel/correction\n",
    "[88] text C=CTA N=UTP\n",
    "[90] text Retail interest indicator\n",
    "[...]\n",
    "```"
   ]
  },
  {
   "cell_type": "markdown",
   "metadata": {},
   "source": [
    "### Zip Files are a PITA"
   ]
  },
  {
   "cell_type": "code",
   "execution_count": 5,
   "metadata": {
    "collapsed": true
   },
   "outputs": [],
   "source": [
    "zf = ZipFile(fname)"
   ]
  },
  {
   "cell_type": "code",
   "execution_count": 6,
   "metadata": {
    "collapsed": false
   },
   "outputs": [],
   "source": [
    "f = zf.filelist[0]"
   ]
  },
  {
   "cell_type": "code",
   "execution_count": 7,
   "metadata": {
    "collapsed": false
   },
   "outputs": [
    {
     "data": {
      "text/plain": [
       "'taqquote20140206'"
      ]
     },
     "execution_count": 7,
     "metadata": {},
     "output_type": "execute_result"
    }
   ],
   "source": [
    "f.filename"
   ]
  },
  {
   "cell_type": "markdown",
   "metadata": {},
   "source": [
    "### Read this in"
   ]
  },
  {
   "cell_type": "code",
   "execution_count": 8,
   "metadata": {
    "collapsed": true
   },
   "outputs": [],
   "source": [
    "# Two characters are also used at the end of each line as a line indicator\n",
    "widths = [9, 1, 16, 11, 7, 11, 7, 1, 4, 1, 1, 16, 1, 1, 1, 1, 1, 1, 1, 1, 1, 1, 1]"
   ]
  },
  {
   "cell_type": "code",
   "execution_count": 9,
   "metadata": {
    "collapsed": false
   },
   "outputs": [
    {
     "data": {
      "text/plain": [
       "array([ 9, 10, 26, 37, 44, 55, 62, 63, 67, 68, 69, 85, 86, 87, 88, 89, 90,\n",
       "       91, 92, 93, 94, 95, 96])"
      ]
     },
     "execution_count": 9,
     "metadata": {},
     "output_type": "execute_result"
    }
   ],
   "source": [
    "w = np.array(widths)\n",
    "w.cumsum()"
   ]
  },
  {
   "cell_type": "markdown",
   "metadata": {},
   "source": [
    "Note that we'll have 98 bytes total with the `\\r\\n` on the end."
   ]
  },
  {
   "cell_type": "code",
   "execution_count": 10,
   "metadata": {
    "collapsed": true
   },
   "outputs": [],
   "source": [
    "BYTES_PER_LINE = 98"
   ]
  },
  {
   "cell_type": "markdown",
   "metadata": {
    "collapsed": false
   },
   "source": [
    "```\n",
    "# Note - we're using object here (as pandas will do this anyway), \n",
    "# and we'll need to convert back to fixed width strings later\n",
    "# We can get the widths from the widths list above\n",
    "old_dtype = [('Time', np.datetime64),\n",
    "         ('Exchange', object),  # |S1\n",
    "         ('Symbol', object),  # |S16, etc.\n",
    "         ('Bid_Price', np.float64),\n",
    "         ('Bid_Size', np.int32),\n",
    "         ('Ask_Price', np.float64),\n",
    "         ('Ask_Size', np.int32),\n",
    "         ('Quote_Condition', object),\n",
    "         ('Market_Maker', np.int), # This is blank - want to skip?\n",
    "         ('Bid_Exchange', object),\n",
    "         ('Ask_Exchange', object),\n",
    "         ('Sequence_Number', np.int64),\n",
    "         ('National_BBO_Ind', np.int8), # These aren't really numbers\n",
    "         ('National_BBO_Ind', np.int8), # Maybe should be string?\n",
    "         ('Quote_Cancel_Correction', object),\n",
    "         ('Source_of_Quote', object),\n",
    "         ('Retail_Interest_Indicator_RPI', object),\n",
    "         ('Short_Sale_Restriction_Indicator', object),\n",
    "         ('LULD_BBO_Indicator_CQS', object),\n",
    "         ('LULD_BBO_Indicator_UTP', object),\n",
    "         ('FINRA_ADF_MPID_Indicator', object),\n",
    "         ('SIP_generated_Message_Identifier', object),\n",
    "         ('National_BBO_LULD_Indicator', object)\n",
    "        ] # Then there's two characters for newline\n",
    "\n",
    "# This was for pandas' screwball approach to dtype\n",
    "# names = [a for a,b in dtype]\n",
    "# dtype = dict(dtype)\n",
    "```"
   ]
  },
  {
   "cell_type": "code",
   "execution_count": 11,
   "metadata": {
    "collapsed": false
   },
   "outputs": [],
   "source": [
    "# Note that the '|' character means byte order doesn't matter\n",
    "initial_dtype = [('Time', 'S9'),  # HHMMSSmmm\n",
    "                 # ('hour', '|S2'),\n",
    "                 # ('minute', '|S2'),\n",
    "                 # ('second', '|S2'),\n",
    "                 # ('msec', '|S3'),\n",
    "                 ('Exchange', 'S1'),\n",
    "                 ('Symbol', 'S16'),\n",
    "                 ('Bid_Price', 'S11'),  # 7.4 (fixed point)\n",
    "                 ('Bid_Size', 'S7'),\n",
    "                 ('Ask_Price', 'S11'),  # 7.4\n",
    "                 ('Ask_Size', 'S7'),\n",
    "                 ('Quote_Condition', 'S1'),\n",
    "                 ('Market_Maker', 'S4'),\n",
    "                 ('Bid_Exchange', 'S1'),\n",
    "                 ('Ask_Exchange', 'S1'),\n",
    "                 ('Sequence_Number', 'S16'),\n",
    "                 ('National_BBO_Ind', 'S1'),\n",
    "                 ('NASDAQ_BBO_Ind', 'S1'),\n",
    "                 ('Quote_Cancel_Correction', 'S1'),\n",
    "                 ('Source_of_Quote', 'S1'),\n",
    "                 ('Retail_Interest_Indicator_RPI', 'S1'),\n",
    "                 ('Short_Sale_Restriction_Indicator', 'S1'),\n",
    "                 ('LULD_BBO_Indicator_CQS', 'S1'),\n",
    "                 ('LULD_BBO_Indicator_UTP', 'S1'),\n",
    "                 ('FINRA_ADF_MPID_Indicator', 'S1'),\n",
    "                 ('SIP_generated_Message_Identifier', 'S1'),\n",
    "                 ('National_BBO_LULD_Indicator', 'S1'),\n",
    "                 ('newline', 'S2')]"
   ]
  },
  {
   "cell_type": "code",
   "execution_count": 54,
   "metadata": {
    "collapsed": true
   },
   "outputs": [],
   "source": [
    "# The below could be mostly auto-generated\n",
    "\n",
    "# Justin and Pandas use datetime64, as does PyTables.\n",
    "# We could use msec from beginning of day for now in an int16\n",
    "# (maybe compare performance to datetime64? But dates should compress very well...)\n",
    "time_col = 'Time'  # want to convert to np.datetime64 from HHMMSSmmm\n",
    "\n",
    "convert_dtype = [\n",
    "               ('Bid_Price', np.float64),\n",
    "               ('Bid_Size', np.int32),\n",
    "               ('Ask_Price', np.float64),\n",
    "               ('Ask_Size', np.int32),\n",
    "               # ('Market_Maker', np.int8),  # This is not currently used, and should always be b'    '\n",
    "               ('Sequence_Number', np.int64),\n",
    "               ('National_BBO_Ind', np.int8),\n",
    "               ('NASDAQ_BBO_Ind', np.int8),\n",
    "              ]\n",
    "\n",
    "passthrough_strings = ['Exchange',\n",
    "                     'Symbol',\n",
    "                     'Quote_Condition',\n",
    "                     'Bid_Exchange',\n",
    "                     'Ask_Exchange',\n",
    "                     'Quote_Cancel_Correction',\n",
    "                     'Source_of_Quote',\n",
    "                     'Retail_Interest_Indicator_RPI',\n",
    "                     'Short_Sale_Restriction_Indicator',\n",
    "                     'LULD_BBO_Indicator_CQS',\n",
    "                     'LULD_BBO_Indicator_UTP',\n",
    "                     'FINRA_ADF_MPID_Indicator',\n",
    "                     'SIP_generated_Message_Identifier',\n",
    "                     'National_BBO_LULD_Indicator']"
   ]
  },
  {
   "cell_type": "code",
   "execution_count": 55,
   "metadata": {
    "collapsed": false
   },
   "outputs": [],
   "source": [
    "pytables_dtype = [('Time', np.datetime64)]\n",
    "converted_dict = dict(convert_dtype)\n",
    "\n",
    "for name, dtype in initial_dtype:\n",
    "    if name in converted_dict:\n",
    "        pytables_dtype.append( (name, converted_dict[name]))\n",
    "    elif name in passthrough_strings:\n",
    "        pytables_dtype.append( (name, dtype))"
   ]
  },
  {
   "cell_type": "code",
   "execution_count": 56,
   "metadata": {
    "collapsed": false
   },
   "outputs": [
    {
     "data": {
      "text/plain": [
       "[('Time', numpy.datetime64),\n",
       " ('Exchange', '|S1'),\n",
       " ('Symbol', '|S16'),\n",
       " ('Bid_Price', numpy.float64),\n",
       " ('Bid_Size', numpy.int32),\n",
       " ('Ask_Price', numpy.float64),\n",
       " ('Ask_Size', numpy.int32),\n",
       " ('Quote_Condition', '|S1'),\n",
       " ('Bid_Exchange', '|S1'),\n",
       " ('Ask_Exchange', '|S1'),\n",
       " ('Sequence_Number', numpy.int64),\n",
       " ('National_BBO_Ind', numpy.int8),\n",
       " ('NASDAQ_BBO_Ind', numpy.int8),\n",
       " ('Quote_Cancel_Correction', '|S1'),\n",
       " ('Source_of_Quote', '|S1'),\n",
       " ('Retail_Interest_Indicator_RPI', '|S1'),\n",
       " ('Short_Sale_Restriction_Indicator', '|S1'),\n",
       " ('LULD_BBO_Indicator_CQS', '|S1'),\n",
       " ('LULD_BBO_Indicator_UTP', '|S1'),\n",
       " ('FINRA_ADF_MPID_Indicator', '|S1'),\n",
       " ('SIP_generated_Message_Identifier', '|S1'),\n",
       " ('National_BBO_LULD_Indicator', '|S1')]"
      ]
     },
     "execution_count": 56,
     "metadata": {},
     "output_type": "execute_result"
    }
   ],
   "source": [
    "pytables_dtype"
   ]
  },
  {
   "cell_type": "code",
   "execution_count": 59,
   "metadata": {
    "collapsed": true
   },
   "outputs": [],
   "source": [
    "tb.Filters??"
   ]
  },
  {
   "cell_type": "code",
   "execution_count": 84,
   "metadata": {
    "collapsed": false
   },
   "outputs": [],
   "source": [
    "class TAQ2HDF5:\n",
    "    \n",
    "    def __init__(self, taq_fname):\n",
    "        self.taq_fname = taq_fname\n",
    "    \n",
    "    def convert_taq(self):\n",
    "        # The below doesn't work for pandas (and neither does `unzip` from the command line). Probably want to use\n",
    "        # something like `7z x -so my_file.zip 2> /dev/null` if we use pandas.\n",
    "        with ZipFile(self.taq_fname) as zfile:\n",
    "            for inside_f in zfile.filelist:\n",
    "                # The original filename is available as inside_f.filename\n",
    "                with zfile.open(inside_f.filename) as infile:\n",
    "                    first = infile.readline()\n",
    "                    # You need to use bytes to split bytes\n",
    "                    _, numlines = first.split(b\":\")\n",
    "                    numlines = int(numlines)\n",
    "                    # Should I use a context manager here?\n",
    "                    self.setup_hdf5(inside_f.filename, numlines)\n",
    "                    self.convert_taq(numlines, infile, self.h5_table)\n",
    "                    self.finalize_hdf5()\n",
    "                    \n",
    "    def setup_hdf5(self, h5_fname_root, numlines):\n",
    "        # We're using aggressive compression and checksums, since this will likely stick around\n",
    "        # Stopping one level short of max compression - don't be greedy.\n",
    "        self.h5 = tb.open_file(h5_fname_root + '.h5', title=h5_fname_root, mode='w', \n",
    "                          filters=tb.Filters(compression=8, complib='blosc:lz4hc', fletcher32=True) )\n",
    "                     \n",
    "        self.h5_table = self.h5.create_table('/', 'daily_quotes', \n",
    "                                             description=pytables_dtype, expectedrows=numlines)\n",
    "    \n",
    "                          \n",
    "    def finalize_hdf5(self):\n",
    "        self.h5.close()\n",
    "\n",
    "    def process_chunk(self, infile, out, chunksize, chunk_start):\n",
    "        raw_bytes = infile.read(BYTES_PER_LINE * chunksize)\n",
    "\n",
    "        # If we use asarray, it crashes Python!\n",
    "        # ndarray gives 'S' arrays instead of chararrays (as recarray does)\n",
    "        all_strings = np.ndarray(chunksize, buffer=raw_bytes, dtype=initial_dtype)\n",
    "\n",
    "        chunk_stop = chunk_start + chunksize\n",
    "        # Apart from Time, we can use automatic type coersion\n",
    "        # Note, we're also leaving out newline here (last column in all_strings)\n",
    "        out[chunk_start:chunk_stop, 1:] = all_strings[:,1:-1]\n",
    "        \n",
    "    # at some point, I'm thinking we should \n",
    "    def raw_conversion(self, numlines, infile, out, chunksize=1000000):\n",
    "        '''Read raw bytes from TAQ, write to HDF5'''\n",
    "        processed_chunks = 0\n",
    "        \n",
    "        # while((processed_chunks + chunksize) < numlines):\n",
    "        chunk_start = processed_chunk * chunksize\n",
    "        self.process_chunk(infile, out, chunksize, chunk_start)\n",
    "\n",
    "        # Get what's left (should be <= chunksize)\n",
    "        # chunk_start = processed_chunk * chunksize\n",
    "        # chunksize = (numlines - processed_chunks) \n",
    "        # self.process_chunk(infile, out, chunksize, chunk_start)"
   ]
  },
  {
   "cell_type": "code",
   "execution_count": 66,
   "metadata": {
    "collapsed": false
   },
   "outputs": [],
   "source": [
    "np.array?"
   ]
  },
  {
   "cell_type": "code",
   "execution_count": 16,
   "metadata": {
    "collapsed": false
   },
   "outputs": [
    {
     "data": {
      "text/plain": [
       "b'075300081PA               000000000000000000000007294000000027R    PP000000000007625512 C       \\r\\n075300085PA               000000000000000000000006076000000010R    PP000000000007625612 C       \\r\\n'"
      ]
     },
     "execution_count": 16,
     "metadata": {},
     "output_type": "execute_result"
    }
   ],
   "source": [
    "two_lines"
   ]
  },
  {
   "cell_type": "markdown",
   "metadata": {},
   "source": [
    "## Why is conversion so hard?\n",
    "\n",
    "numpy doesn't seem to deal well with conversion from bytes, and I don't want to convert to string just to convert to bytes (though for all I know, pandas is doing this under the hood)."
   ]
  },
  {
   "cell_type": "code",
   "execution_count": 27,
   "metadata": {
    "collapsed": false
   },
   "outputs": [
    {
     "data": {
      "text/plain": [
       "array([ (b'075300081', b'P', b'A               ', b'00000000000', b'0000000', b'00000729400', b'0000027', b'R', b'    ', b'P', b'P', b'0000000000076255', b'1', b'2', b' ', b'C', b' ', b' ', b' ', b' ', b' ', b' ', b' ', b'\\r\\n'),\n",
       "       (b'075300085', b'P', b'A               ', b'00000000000', b'0000000', b'00000607600', b'0000010', b'R', b'    ', b'P', b'P', b'0000000000076256', b'1', b'2', b' ', b'C', b' ', b' ', b' ', b' ', b' ', b' ', b' ', b'\\r\\n')], \n",
       "      dtype=[('Time', 'S9'), ('Exchange', 'S1'), ('Symbol', 'S16'), ('Bid_Price', 'S11'), ('Bid_Size', 'S7'), ('Ask_Price', 'S11'), ('Ask_Size', 'S7'), ('Quote_Condition', 'S1'), ('Market_Maker', 'S4'), ('Bid_Exchange', 'S1'), ('Ask_Exchange', 'S1'), ('Sequence_Number', 'S16'), ('National_BBO_Ind', 'S1'), ('NASDAQ_BBO_Ind', 'S1'), ('Quote_Cancel_Correction', 'S1'), ('Source_of_Quote', 'S1'), ('Retail_Interest_Indicator_RPI', 'S1'), ('Short_Sale_Restriction_Indicator', 'S1'), ('LULD_BBO_Indicator_CQS', 'S1'), ('LULD_BBO_Indicator_UTP', 'S1'), ('FINRA_ADF_MPID_Indicator', 'S1'), ('SIP_generated_Message_Identifier', 'S1'), ('National_BBO_LULD_Indicator', 'S1'), ('newline', 'S2')])"
      ]
     },
     "execution_count": 27,
     "metadata": {},
     "output_type": "execute_result"
    }
   ],
   "source": [
    "# If we use asarray, it crashes Python!\n",
    "# ndarray gives 'S' arrays instead of chararrays (as recarray does)\n",
    "all_strings = np.ndarray(2, buffer=two_lines, dtype=initial_dtype)\n",
    "all_strings"
   ]
  },
  {
   "cell_type": "code",
   "execution_count": 30,
   "metadata": {
    "collapsed": false
   },
   "outputs": [],
   "source": [
    "ap = all_strings_arr['Ask_Price']"
   ]
  },
  {
   "cell_type": "code",
   "execution_count": 34,
   "metadata": {
    "collapsed": false
   },
   "outputs": [],
   "source": [
    "all_strings_arr.astype?"
   ]
  },
  {
   "cell_type": "code",
   "execution_count": 31,
   "metadata": {
    "collapsed": false
   },
   "outputs": [
    {
     "data": {
      "text/plain": [
       "array([ 729400.,  607600.], dtype=float32)"
      ]
     },
     "execution_count": 31,
     "metadata": {},
     "output_type": "execute_result"
    }
   ],
   "source": [
    "ap.astype(np.float32)"
   ]
  },
  {
   "cell_type": "code",
   "execution_count": 91,
   "metadata": {
    "collapsed": true
   },
   "outputs": [],
   "source": [
    "import pandas as pd"
   ]
  },
  {
   "cell_type": "code",
   "execution_count": 46,
   "metadata": {
    "collapsed": false
   },
   "outputs": [],
   "source": [
    "to_convert = [\n",
    " ('Bid_Price', np.float64),\n",
    " ('Bid_Size', np.int32),\n",
    " ('Ask_Price', np.float64),\n",
    " ('Ask_Size', np.int32),\n",
    "    # This is currently blank\n",
    "    # ('Market_Maker', np.int8),\n",
    " ('Sequence_Number', np.int64),\n",
    " ('National_BBO_Ind', np.int8),\n",
    " ('NASDAQ_BBO_Ind', np.int8)]"
   ]
  },
  {
   "cell_type": "code",
   "execution_count": 47,
   "metadata": {
    "collapsed": false
   },
   "outputs": [],
   "source": [
    "names, types = list(zip(*to_convert))"
   ]
  },
  {
   "cell_type": "code",
   "execution_count": 48,
   "metadata": {
    "collapsed": false
   },
   "outputs": [
    {
     "data": {
      "text/plain": [
       "('Bid_Price',\n",
       " 'Bid_Size',\n",
       " 'Ask_Price',\n",
       " 'Ask_Size',\n",
       " 'Sequence_Number',\n",
       " 'National_BBO_Ind',\n",
       " 'NASDAQ_BBO_Ind')"
      ]
     },
     "execution_count": 48,
     "metadata": {},
     "output_type": "execute_result"
    }
   ],
   "source": [
    "names"
   ]
  },
  {
   "cell_type": "code",
   "execution_count": 49,
   "metadata": {
    "collapsed": false
   },
   "outputs": [
    {
     "data": {
      "text/plain": [
       "array([(0.0, 0, 729400.0, 27, 76255, 1, 2),\n",
       "       (0.0, 0, 607600.0, 10, 76256, 1, 2)], \n",
       "      dtype=[('Bid_Price', '<f8'), ('Bid_Size', '<i4'), ('Ask_Price', '<f8'), ('Ask_Size', '<i4'), ('Sequence_Number', '<i8'), ('National_BBO_Ind', 'i1'), ('NASDAQ_BBO_Ind', 'i1')])"
      ]
     },
     "execution_count": 49,
     "metadata": {},
     "output_type": "execute_result"
    }
   ],
   "source": [
    "all_strings_arr[list(names)].astype(to_convert)"
   ]
  },
  {
   "cell_type": "code",
   "execution_count": 173,
   "metadata": {
    "collapsed": false
   },
   "outputs": [
    {
     "data": {
      "text/plain": [
       "729400.0"
      ]
     },
     "execution_count": 173,
     "metadata": {},
     "output_type": "execute_result"
    }
   ],
   "source": [
    "np.float32(all_strings_arr['Ask_Price'])"
   ]
  },
  {
   "cell_type": "code",
   "execution_count": 148,
   "metadata": {
    "collapsed": false
   },
   "outputs": [
    {
     "ename": "ValueError",
     "evalue": "Can only create a chararray from string data.",
     "output_type": "error",
     "traceback": [
      "\u001b[0;31m---------------------------------------------------------------------------\u001b[0m",
      "\u001b[0;31mValueError\u001b[0m                                Traceback (most recent call last)",
      "\u001b[0;32m<ipython-input-148-7df8a9f4e14b>\u001b[0m in \u001b[0;36m<module>\u001b[0;34m()\u001b[0m\n\u001b[0;32m----> 1\u001b[0;31m \u001b[0mnp\u001b[0m\u001b[0;34m.\u001b[0m\u001b[0mfloat32\u001b[0m\u001b[0;34m(\u001b[0m\u001b[0mall_strings\u001b[0m\u001b[0;34m.\u001b[0m\u001b[0mAsk_Price\u001b[0m\u001b[0;34m)\u001b[0m\u001b[0;34m\u001b[0m\u001b[0m\n\u001b[0m",
      "\u001b[0;32m/opt/anaconda/envs/py3/lib/python3.4/site-packages/numpy/core/defchararray.py\u001b[0m in \u001b[0;36m__array_finalize__\u001b[0;34m(self, obj)\u001b[0m\n\u001b[1;32m   1846\u001b[0m         \u001b[0;31m# The b is a special case because it is used for reconstructing.\u001b[0m\u001b[0;34m\u001b[0m\u001b[0;34m\u001b[0m\u001b[0m\n\u001b[1;32m   1847\u001b[0m         \u001b[0;32mif\u001b[0m \u001b[0;32mnot\u001b[0m \u001b[0m_globalvar\u001b[0m \u001b[0;32mand\u001b[0m \u001b[0mself\u001b[0m\u001b[0;34m.\u001b[0m\u001b[0mdtype\u001b[0m\u001b[0;34m.\u001b[0m\u001b[0mchar\u001b[0m \u001b[0;32mnot\u001b[0m \u001b[0;32min\u001b[0m \u001b[0;34m'SUbc'\u001b[0m\u001b[0;34m:\u001b[0m\u001b[0;34m\u001b[0m\u001b[0m\n\u001b[0;32m-> 1848\u001b[0;31m             \u001b[0;32mraise\u001b[0m \u001b[0mValueError\u001b[0m\u001b[0;34m(\u001b[0m\u001b[0;34m\"Can only create a chararray from string data.\"\u001b[0m\u001b[0;34m)\u001b[0m\u001b[0;34m\u001b[0m\u001b[0m\n\u001b[0m\u001b[1;32m   1849\u001b[0m \u001b[0;34m\u001b[0m\u001b[0m\n\u001b[1;32m   1850\u001b[0m     \u001b[0;32mdef\u001b[0m \u001b[0m__getitem__\u001b[0m\u001b[0;34m(\u001b[0m\u001b[0mself\u001b[0m\u001b[0;34m,\u001b[0m \u001b[0mobj\u001b[0m\u001b[0;34m)\u001b[0m\u001b[0;34m:\u001b[0m\u001b[0;34m\u001b[0m\u001b[0m\n",
      "\u001b[0;31mValueError\u001b[0m: Can only create a chararray from string data."
     ]
    }
   ],
   "source": [
    "np.float32(all_strings.Ask_Price)"
   ]
  },
  {
   "cell_type": "code",
   "execution_count": 142,
   "metadata": {
    "collapsed": false
   },
   "outputs": [
    {
     "data": {
      "text/html": [
       "<div style=\"max-height:1000px;max-width:1500px;overflow:auto;\">\n",
       "<table border=\"1\" class=\"dataframe\">\n",
       "  <thead>\n",
       "    <tr style=\"text-align: right;\">\n",
       "      <th></th>\n",
       "      <th>Bid_Price</th>\n",
       "      <th>Bid_Size</th>\n",
       "      <th>Ask_Price</th>\n",
       "      <th>Ask_Size</th>\n",
       "      <th>Market_Maker</th>\n",
       "      <th>Sequence_Number</th>\n",
       "      <th>National_BBO_Ind</th>\n",
       "      <th>NASDAQ_BBO_Ind</th>\n",
       "    </tr>\n",
       "  </thead>\n",
       "  <tbody>\n",
       "    <tr>\n",
       "      <th>0</th>\n",
       "      <td>b'00000000000'</td>\n",
       "      <td>b'0000000'</td>\n",
       "      <td>b'00000729400'</td>\n",
       "      <td>b'0000027'</td>\n",
       "      <td>b'    '</td>\n",
       "      <td>b'0000000000076255'</td>\n",
       "      <td>b'1'</td>\n",
       "      <td>b'2'</td>\n",
       "    </tr>\n",
       "    <tr>\n",
       "      <th>1</th>\n",
       "      <td>b'00000000000'</td>\n",
       "      <td>b'0000000'</td>\n",
       "      <td>b'00000607600'</td>\n",
       "      <td>b'0000010'</td>\n",
       "      <td>b'    '</td>\n",
       "      <td>b'0000000000076256'</td>\n",
       "      <td>b'1'</td>\n",
       "      <td>b'2'</td>\n",
       "    </tr>\n",
       "  </tbody>\n",
       "</table>\n",
       "</div>"
      ],
      "text/plain": [
       "        Bid_Price    Bid_Size       Ask_Price    Ask_Size Market_Maker  \\\n",
       "0  b'00000000000'  b'0000000'  b'00000729400'  b'0000027'      b'    '   \n",
       "1  b'00000000000'  b'0000000'  b'00000607600'  b'0000010'      b'    '   \n",
       "\n",
       "       Sequence_Number National_BBO_Ind NASDAQ_BBO_Ind  \n",
       "0  b'0000000000076255'             b'1'           b'2'  \n",
       "1  b'0000000000076256'             b'1'           b'2'  "
      ]
     },
     "execution_count": 142,
     "metadata": {},
     "output_type": "execute_result"
    }
   ],
   "source": [
    "pd.DataFrame(all_strings[list(names)])"
   ]
  },
  {
   "cell_type": "code",
   "execution_count": 81,
   "metadata": {
    "collapsed": false
   },
   "outputs": [],
   "source": [
    "byte_float = all_strings.Bid_Price[0]"
   ]
  },
  {
   "cell_type": "code",
   "execution_count": 90,
   "metadata": {
    "collapsed": false
   },
   "outputs": [
    {
     "data": {
      "text/plain": [
       "array([(b'00000000000', b'00000729400'), (b'00000000000', b'00000607600')], \n",
       "      dtype=[('Bid_Price', 'S11'), ('Ask_Price', 'S11')])"
      ]
     },
     "execution_count": 90,
     "metadata": {},
     "output_type": "execute_result"
    }
   ],
   "source": [
    "all_strings[['Bid_Price', 'Ask_Price']]"
   ]
  },
  {
   "cell_type": "code",
   "execution_count": 68,
   "metadata": {
    "collapsed": false
   },
   "outputs": [
    {
     "data": {
      "text/plain": [
       "[('Time', b'075300081'),\n",
       " ('Exchange', b'P'),\n",
       " ('Symbol', b'A               '),\n",
       " ('Bid_Price', b'00000000000'),\n",
       " ('Bid_Size', b'0000000'),\n",
       " ('Ask_Price', b'00000729400'),\n",
       " ('Ask_Size', b'0000027'),\n",
       " ('Quote_Condition', b'R'),\n",
       " ('Market_Maker', b'    '),\n",
       " ('Bid_Exchange', b'P'),\n",
       " ('Ask_Exchange', b'P'),\n",
       " ('Sequence_Number', b'0000000000076255'),\n",
       " ('National_BBO_Ind', b'1'),\n",
       " ('NASDAQ_BBO_Ind', b'2'),\n",
       " ('Quote_Cancel_Correction', b' '),\n",
       " ('Source_of_Quote', b'C'),\n",
       " ('Retail_Interest_Indicator_RPI', b' '),\n",
       " ('Short_Sale_Restriction_Indicator', b' '),\n",
       " ('LULD_BBO_Indicator_CQS', b' '),\n",
       " ('LULD_BBO_Indicator_UTP', b' '),\n",
       " ('FINRA_ADF_MPID_Indicator', b' '),\n",
       " ('SIP_generated_Message_Identifier', b' '),\n",
       " ('National_BBO_LULD_Indicator', b' '),\n",
       " ('newline', b'\\r\\n')]"
      ]
     },
     "execution_count": 68,
     "metadata": {},
     "output_type": "execute_result"
    }
   ],
   "source": [
    "list(zip([name for name, type in initial_dtype], all_strings[0]))"
   ]
  },
  {
   "cell_type": "code",
   "execution_count": 70,
   "metadata": {
    "collapsed": false
   },
   "outputs": [
    {
     "data": {
      "text/plain": [
       "[('Time', b'075300085'),\n",
       " ('Exchange', b'P'),\n",
       " ('Symbol', b'A               '),\n",
       " ('Bid_Price', b'00000000000'),\n",
       " ('Bid_Size', b'0000000'),\n",
       " ('Ask_Price', b'00000607600'),\n",
       " ('Ask_Size', b'0000010'),\n",
       " ('Quote_Condition', b'R'),\n",
       " ('Market_Maker', b'    '),\n",
       " ('Bid_Exchange', b'P'),\n",
       " ('Ask_Exchange', b'P'),\n",
       " ('Sequence_Number', b'0000000000076256'),\n",
       " ('National_BBO_Ind', b'1'),\n",
       " ('NASDAQ_BBO_Ind', b'2'),\n",
       " ('Quote_Cancel_Correction', b' '),\n",
       " ('Source_of_Quote', b'C'),\n",
       " ('Retail_Interest_Indicator_RPI', b' '),\n",
       " ('Short_Sale_Restriction_Indicator', b' '),\n",
       " ('LULD_BBO_Indicator_CQS', b' '),\n",
       " ('LULD_BBO_Indicator_UTP', b' '),\n",
       " ('FINRA_ADF_MPID_Indicator', b' '),\n",
       " ('SIP_generated_Message_Identifier', b' '),\n",
       " ('National_BBO_LULD_Indicator', b' '),\n",
       " ('newline', b'\\r\\n')]"
      ]
     },
     "execution_count": 70,
     "metadata": {},
     "output_type": "execute_result"
    }
   ],
   "source": [
    "list(zip([name for name, type in initial_dtype], all_strings[1]))"
   ]
  },
  {
   "cell_type": "code",
   "execution_count": 73,
   "metadata": {
    "collapsed": false
   },
   "outputs": [
    {
     "ename": "ValueError",
     "evalue": "Error parsing datetime string \"12:25\" at position 2",
     "output_type": "error",
     "traceback": [
      "\u001b[0;31m---------------------------------------------------------------------------\u001b[0m",
      "\u001b[0;31mValueError\u001b[0m                                Traceback (most recent call last)",
      "\u001b[0;32m<ipython-input-73-a524e112905f>\u001b[0m in \u001b[0;36m<module>\u001b[0;34m()\u001b[0m\n\u001b[0;32m----> 1\u001b[0;31m \u001b[0mnp\u001b[0m\u001b[0;34m.\u001b[0m\u001b[0mdatetime64\u001b[0m\u001b[0;34m(\u001b[0m\u001b[0;34m'12:25'\u001b[0m\u001b[0;34m)\u001b[0m\u001b[0;34m\u001b[0m\u001b[0m\n\u001b[0m",
      "\u001b[0;31mValueError\u001b[0m: Error parsing datetime string \"12:25\" at position 2"
     ]
    }
   ],
   "source": [
    "np.datetime64('12:25')"
   ]
  },
  {
   "cell_type": "markdown",
   "metadata": {},
   "source": [
    "## Screwing around with HDF5"
   ]
  },
  {
   "cell_type": "code",
   "execution_count": 71,
   "metadata": {
    "collapsed": true
   },
   "outputs": [],
   "source": [
    "h5test.close()"
   ]
  },
  {
   "cell_type": "code",
   "execution_count": 72,
   "metadata": {
    "collapsed": true
   },
   "outputs": [],
   "source": [
    "h5test = tb.open_file('test.h5', 'w')"
   ]
  },
  {
   "cell_type": "code",
   "execution_count": 73,
   "metadata": {
    "collapsed": false
   },
   "outputs": [],
   "source": [
    "arr = h5test.createArray('/', 'test', [0,0,0,0])"
   ]
  },
  {
   "cell_type": "code",
   "execution_count": 76,
   "metadata": {
    "collapsed": false
   },
   "outputs": [],
   "source": [
    "arr = h5test.root.test"
   ]
  },
  {
   "cell_type": "code",
   "execution_count": 77,
   "metadata": {
    "collapsed": true
   },
   "outputs": [],
   "source": [
    "arr[:] = ['1', '2', '3', '4']"
   ]
  },
  {
   "cell_type": "code",
   "execution_count": 81,
   "metadata": {
    "collapsed": false
   },
   "outputs": [],
   "source": [
    "arr[1:] = ['1', 2, '5']"
   ]
  },
  {
   "cell_type": "code",
   "execution_count": 82,
   "metadata": {
    "collapsed": false
   },
   "outputs": [
    {
     "data": {
      "text/plain": [
       "[1, 1, 2, 5]"
      ]
     },
     "execution_count": 82,
     "metadata": {},
     "output_type": "execute_result"
    }
   ],
   "source": [
    "arr[:]"
   ]
  }
 ],
 "metadata": {
  "kernelspec": {
   "display_name": "Python 3",
   "language": "python",
   "name": "python3"
  },
  "language_info": {
   "codemirror_mode": {
    "name": "ipython",
    "version": 3
   },
   "file_extension": ".py",
   "mimetype": "text/x-python",
   "name": "python",
   "nbconvert_exporter": "python",
   "pygments_lexer": "ipython3",
   "version": "3.4.3"
  }
 },
 "nbformat": 4,
 "nbformat_minor": 0
}
