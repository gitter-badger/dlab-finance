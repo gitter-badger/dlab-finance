{
 "metadata": {
  "name": "",
  "signature": "sha256:d2979bc905f7ea79db304bbc5e619e64dce2b984632220a412046bc34d153059"
 },
 "nbformat": 3,
 "nbformat_minor": 0,
 "worksheets": [
  {
   "cells": [
    {
     "cell_type": "markdown",
     "metadata": {},
     "source": [
      "# Using generators to get numpy chunks out of TAQ data"
     ]
    },
    {
     "cell_type": "code",
     "collapsed": false,
     "input": [
      "from glob import glob\n",
      "import raw_taq"
     ],
     "language": "python",
     "metadata": {},
     "outputs": [],
     "prompt_number": 27
    },
    {
     "cell_type": "code",
     "collapsed": false,
     "input": [
      "# You can run this if you update the raw_taq.py file\n",
      "from importlib import reload\n",
      "reload(raw_taq)"
     ],
     "language": "python",
     "metadata": {},
     "outputs": [
      {
       "metadata": {},
       "output_type": "pyout",
       "prompt_number": 84,
       "text": [
        "<module 'raw_taq' from '/Users/dav/Projects/dlab-finance/pynbbo/raw_taq.py'>"
       ]
      }
     ],
     "prompt_number": 84
    },
    {
     "cell_type": "markdown",
     "metadata": {},
     "source": [
      "### Here, we grab whatever BBO file we can find"
     ]
    },
    {
     "cell_type": "code",
     "collapsed": false,
     "input": [
      "# I grab the [0]'th fname in the glob\n",
      "fname = glob('../local_data/EQY_US_ALL_BBO_*.zip')[0]\n",
      "test_run = raw_taq.TAQ2Chunks(fname)"
     ],
     "language": "python",
     "metadata": {},
     "outputs": [],
     "prompt_number": 94
    },
    {
     "cell_type": "code",
     "collapsed": false,
     "input": [
      "chunk_gen = test_run.convert_taq(10)"
     ],
     "language": "python",
     "metadata": {},
     "outputs": [],
     "prompt_number": 69
    },
    {
     "cell_type": "code",
     "collapsed": false,
     "input": [
      "type(chunk_gen)"
     ],
     "language": "python",
     "metadata": {},
     "outputs": [
      {
       "metadata": {},
       "output_type": "pyout",
       "prompt_number": 70,
       "text": [
        "generator"
       ]
      }
     ],
     "prompt_number": 70
    },
    {
     "cell_type": "code",
     "collapsed": false,
     "input": [
      "# You can get one chunk this way\n",
      "chunk = next(chunk_gen)\n",
      "chunk[0]"
     ],
     "language": "python",
     "metadata": {},
     "outputs": [
      {
       "metadata": {},
       "output_type": "pyout",
       "prompt_number": 95,
       "text": [
        "(b'T', b'A               ', 0.0, 0, 63.34, 1, b'R', b'T', b'T', 83589, b'0', b'2', b' ', b'C', b' ', b' ', b' ', b' ', b' ', b' ', b' ', 1391691466.431)"
       ]
      }
     ],
     "prompt_number": 95
    },
    {
     "cell_type": "code",
     "collapsed": false,
     "input": [
      "# If you want just the type\n",
      "chunk.dtype"
     ],
     "language": "python",
     "metadata": {},
     "outputs": [
      {
       "metadata": {},
       "output_type": "pyout",
       "prompt_number": 86,
       "text": [
        "dtype([('Exchange', 'S1'), ('Symbol', 'S16'), ('Bid_Price', '<f8'), ('Bid_Size', '<i4'), ('Ask_Price', '<f8'), ('Ask_Size', '<i4'), ('Quote_Condition', 'S1'), ('Bid_Exchange', 'S1'), ('Ask_Exchange', 'S1'), ('Sequence_Number', '<i8'), ('National_BBO_Ind', 'S1'), ('NASDAQ_BBO_Ind', 'S1'), ('Quote_Cancel_Correction', 'S1'), ('Source_of_Quote', 'S1'), ('Retail_Interest_Indicator_RPI', 'S1'), ('Short_Sale_Restriction_Indicator', 'S1'), ('LULD_BBO_Indicator_CQS', 'S1'), ('LULD_BBO_Indicator_UTP', 'S1'), ('FINRA_ADF_MPID_Indicator', 'S1'), ('SIP_generated_Message_Identifier', 'S1'), ('National_BBO_LULD_Indicator', 'S1'), ('Time', '<f8')])"
       ]
      }
     ],
     "prompt_number": 86
    },
    {
     "cell_type": "code",
     "collapsed": false,
     "input": [
      "# Numpy record arrays support string indexing to get columns\n",
      "chunk['Bid_Price']"
     ],
     "language": "python",
     "metadata": {},
     "outputs": [
      {
       "metadata": {},
       "output_type": "pyout",
       "prompt_number": 87,
       "text": [
        "array([  0.  ,   0.  ,   0.  ,   0.  ,   0.  ,   0.  ,  54.07,   0.  ,\n",
        "         0.  ,   0.  ])"
       ]
      }
     ],
     "prompt_number": 87
    },
    {
     "cell_type": "code",
     "collapsed": false,
     "input": [
      "# Numeric indexing gives a row\n",
      "chunk[0]"
     ],
     "language": "python",
     "metadata": {},
     "outputs": [
      {
       "metadata": {},
       "output_type": "pyout",
       "prompt_number": 88,
       "text": [
        "(b'T', b'A               ', 0.0, 0, 0.0, 0, b'R', b'T', b'T', 82748, b'0', b'2', b' ', b'C', b' ', b' ', b' ', b' ', b' ', b' ', b' ', 1391691426.43)"
       ]
      }
     ],
     "prompt_number": 88
    },
    {
     "cell_type": "code",
     "collapsed": false,
     "input": [
      "# And you can do both\n",
      "chunk['Bid_Price'][6]"
     ],
     "language": "python",
     "metadata": {},
     "outputs": [
      {
       "metadata": {},
       "output_type": "pyout",
       "prompt_number": 91,
       "text": [
        "54.07"
       ]
      }
     ],
     "prompt_number": 91
    },
    {
     "cell_type": "code",
     "collapsed": false,
     "input": [
      "# Or\n",
      "chunk[6]['Bid_Price']"
     ],
     "language": "python",
     "metadata": {},
     "outputs": [
      {
       "metadata": {},
       "output_type": "pyout",
       "prompt_number": 92,
       "text": [
        "54.07"
       ]
      }
     ],
     "prompt_number": 92
    },
    {
     "cell_type": "markdown",
     "metadata": {},
     "source": [
      "## You can also easily convert numpy record arrays to pandas dataframes easily"
     ]
    },
    {
     "cell_type": "code",
     "collapsed": false,
     "input": [
      "import pandas as pd"
     ],
     "language": "python",
     "metadata": {},
     "outputs": [],
     "prompt_number": 81
    },
    {
     "cell_type": "code",
     "collapsed": false,
     "input": [
      "chunk_df = pd.DataFrame(chunk)"
     ],
     "language": "python",
     "metadata": {},
     "outputs": [],
     "prompt_number": 82
    },
    {
     "cell_type": "code",
     "collapsed": false,
     "input": [
      "chunk_df"
     ],
     "language": "python",
     "metadata": {},
     "outputs": [
      {
       "html": [
        "<div style=\"max-height:1000px;max-width:1500px;overflow:auto;\">\n",
        "<table border=\"1\" class=\"dataframe\">\n",
        "  <thead>\n",
        "    <tr style=\"text-align: right;\">\n",
        "      <th></th>\n",
        "      <th>Exchange</th>\n",
        "      <th>Symbol</th>\n",
        "      <th>Bid_Price</th>\n",
        "      <th>Bid_Size</th>\n",
        "      <th>Ask_Price</th>\n",
        "      <th>Ask_Size</th>\n",
        "      <th>Quote_Condition</th>\n",
        "      <th>Bid_Exchange</th>\n",
        "      <th>Ask_Exchange</th>\n",
        "      <th>Sequence_Number</th>\n",
        "      <th>...</th>\n",
        "      <th>Quote_Cancel_Correction</th>\n",
        "      <th>Source_of_Quote</th>\n",
        "      <th>Retail_Interest_Indicator_RPI</th>\n",
        "      <th>Short_Sale_Restriction_Indicator</th>\n",
        "      <th>LULD_BBO_Indicator_CQS</th>\n",
        "      <th>LULD_BBO_Indicator_UTP</th>\n",
        "      <th>FINRA_ADF_MPID_Indicator</th>\n",
        "      <th>SIP_generated_Message_Identifier</th>\n",
        "      <th>National_BBO_LULD_Indicator</th>\n",
        "      <th>Time</th>\n",
        "    </tr>\n",
        "  </thead>\n",
        "  <tbody>\n",
        "    <tr>\n",
        "      <th>0</th>\n",
        "      <td>b'T'</td>\n",
        "      <td>b'A               '</td>\n",
        "      <td>0</td>\n",
        "      <td>0</td>\n",
        "      <td>0.00</td>\n",
        "      <td>0</td>\n",
        "      <td>b'R'</td>\n",
        "      <td>b'T'</td>\n",
        "      <td>b'T'</td>\n",
        "      <td>81841</td>\n",
        "      <td>...</td>\n",
        "      <td>b' '</td>\n",
        "      <td>b'C'</td>\n",
        "      <td>b' '</td>\n",
        "      <td>b' '</td>\n",
        "      <td>b' '</td>\n",
        "      <td>b' '</td>\n",
        "      <td>b' '</td>\n",
        "      <td>b' '</td>\n",
        "      <td>b' '</td>\n",
        "      <td>1.391691e+09</td>\n",
        "    </tr>\n",
        "    <tr>\n",
        "      <th>1</th>\n",
        "      <td>b'T'</td>\n",
        "      <td>b'A               '</td>\n",
        "      <td>0</td>\n",
        "      <td>0</td>\n",
        "      <td>63.30</td>\n",
        "      <td>1</td>\n",
        "      <td>b'R'</td>\n",
        "      <td>b'T'</td>\n",
        "      <td>b'T'</td>\n",
        "      <td>81850</td>\n",
        "      <td>...</td>\n",
        "      <td>b' '</td>\n",
        "      <td>b'C'</td>\n",
        "      <td>b' '</td>\n",
        "      <td>b' '</td>\n",
        "      <td>b' '</td>\n",
        "      <td>b' '</td>\n",
        "      <td>b' '</td>\n",
        "      <td>b' '</td>\n",
        "      <td>b' '</td>\n",
        "      <td>1.391691e+09</td>\n",
        "    </tr>\n",
        "    <tr>\n",
        "      <th>2</th>\n",
        "      <td>b'T'</td>\n",
        "      <td>b'A               '</td>\n",
        "      <td>0</td>\n",
        "      <td>0</td>\n",
        "      <td>0.00</td>\n",
        "      <td>0</td>\n",
        "      <td>b'R'</td>\n",
        "      <td>b'T'</td>\n",
        "      <td>b'T'</td>\n",
        "      <td>82038</td>\n",
        "      <td>...</td>\n",
        "      <td>b' '</td>\n",
        "      <td>b'C'</td>\n",
        "      <td>b' '</td>\n",
        "      <td>b' '</td>\n",
        "      <td>b' '</td>\n",
        "      <td>b' '</td>\n",
        "      <td>b' '</td>\n",
        "      <td>b' '</td>\n",
        "      <td>b' '</td>\n",
        "      <td>1.391691e+09</td>\n",
        "    </tr>\n",
        "    <tr>\n",
        "      <th>3</th>\n",
        "      <td>b'T'</td>\n",
        "      <td>b'A               '</td>\n",
        "      <td>0</td>\n",
        "      <td>0</td>\n",
        "      <td>63.29</td>\n",
        "      <td>1</td>\n",
        "      <td>b'R'</td>\n",
        "      <td>b'T'</td>\n",
        "      <td>b'T'</td>\n",
        "      <td>82047</td>\n",
        "      <td>...</td>\n",
        "      <td>b' '</td>\n",
        "      <td>b'C'</td>\n",
        "      <td>b' '</td>\n",
        "      <td>b' '</td>\n",
        "      <td>b' '</td>\n",
        "      <td>b' '</td>\n",
        "      <td>b' '</td>\n",
        "      <td>b' '</td>\n",
        "      <td>b' '</td>\n",
        "      <td>1.391691e+09</td>\n",
        "    </tr>\n",
        "    <tr>\n",
        "      <th>4</th>\n",
        "      <td>b'T'</td>\n",
        "      <td>b'A               '</td>\n",
        "      <td>0</td>\n",
        "      <td>0</td>\n",
        "      <td>0.00</td>\n",
        "      <td>0</td>\n",
        "      <td>b'R'</td>\n",
        "      <td>b'T'</td>\n",
        "      <td>b'T'</td>\n",
        "      <td>82360</td>\n",
        "      <td>...</td>\n",
        "      <td>b' '</td>\n",
        "      <td>b'C'</td>\n",
        "      <td>b' '</td>\n",
        "      <td>b' '</td>\n",
        "      <td>b' '</td>\n",
        "      <td>b' '</td>\n",
        "      <td>b' '</td>\n",
        "      <td>b' '</td>\n",
        "      <td>b' '</td>\n",
        "      <td>1.391691e+09</td>\n",
        "    </tr>\n",
        "    <tr>\n",
        "      <th>5</th>\n",
        "      <td>b'T'</td>\n",
        "      <td>b'A               '</td>\n",
        "      <td>0</td>\n",
        "      <td>0</td>\n",
        "      <td>63.30</td>\n",
        "      <td>1</td>\n",
        "      <td>b'R'</td>\n",
        "      <td>b'T'</td>\n",
        "      <td>b'T'</td>\n",
        "      <td>82372</td>\n",
        "      <td>...</td>\n",
        "      <td>b' '</td>\n",
        "      <td>b'C'</td>\n",
        "      <td>b' '</td>\n",
        "      <td>b' '</td>\n",
        "      <td>b' '</td>\n",
        "      <td>b' '</td>\n",
        "      <td>b' '</td>\n",
        "      <td>b' '</td>\n",
        "      <td>b' '</td>\n",
        "      <td>1.391691e+09</td>\n",
        "    </tr>\n",
        "    <tr>\n",
        "      <th>6</th>\n",
        "      <td>b'T'</td>\n",
        "      <td>b'A               '</td>\n",
        "      <td>0</td>\n",
        "      <td>0</td>\n",
        "      <td>0.00</td>\n",
        "      <td>0</td>\n",
        "      <td>b'R'</td>\n",
        "      <td>b'T'</td>\n",
        "      <td>b'T'</td>\n",
        "      <td>82496</td>\n",
        "      <td>...</td>\n",
        "      <td>b' '</td>\n",
        "      <td>b'C'</td>\n",
        "      <td>b' '</td>\n",
        "      <td>b' '</td>\n",
        "      <td>b' '</td>\n",
        "      <td>b' '</td>\n",
        "      <td>b' '</td>\n",
        "      <td>b' '</td>\n",
        "      <td>b' '</td>\n",
        "      <td>1.391691e+09</td>\n",
        "    </tr>\n",
        "    <tr>\n",
        "      <th>7</th>\n",
        "      <td>b'T'</td>\n",
        "      <td>b'A               '</td>\n",
        "      <td>0</td>\n",
        "      <td>0</td>\n",
        "      <td>63.30</td>\n",
        "      <td>1</td>\n",
        "      <td>b'R'</td>\n",
        "      <td>b'T'</td>\n",
        "      <td>b'T'</td>\n",
        "      <td>82503</td>\n",
        "      <td>...</td>\n",
        "      <td>b' '</td>\n",
        "      <td>b'C'</td>\n",
        "      <td>b' '</td>\n",
        "      <td>b' '</td>\n",
        "      <td>b' '</td>\n",
        "      <td>b' '</td>\n",
        "      <td>b' '</td>\n",
        "      <td>b' '</td>\n",
        "      <td>b' '</td>\n",
        "      <td>1.391691e+09</td>\n",
        "    </tr>\n",
        "    <tr>\n",
        "      <th>8</th>\n",
        "      <td>b'T'</td>\n",
        "      <td>b'A               '</td>\n",
        "      <td>0</td>\n",
        "      <td>0</td>\n",
        "      <td>0.00</td>\n",
        "      <td>0</td>\n",
        "      <td>b'R'</td>\n",
        "      <td>b'T'</td>\n",
        "      <td>b'T'</td>\n",
        "      <td>82598</td>\n",
        "      <td>...</td>\n",
        "      <td>b' '</td>\n",
        "      <td>b'C'</td>\n",
        "      <td>b' '</td>\n",
        "      <td>b' '</td>\n",
        "      <td>b' '</td>\n",
        "      <td>b' '</td>\n",
        "      <td>b' '</td>\n",
        "      <td>b' '</td>\n",
        "      <td>b' '</td>\n",
        "      <td>1.391691e+09</td>\n",
        "    </tr>\n",
        "    <tr>\n",
        "      <th>9</th>\n",
        "      <td>b'T'</td>\n",
        "      <td>b'A               '</td>\n",
        "      <td>0</td>\n",
        "      <td>0</td>\n",
        "      <td>63.30</td>\n",
        "      <td>1</td>\n",
        "      <td>b'R'</td>\n",
        "      <td>b'T'</td>\n",
        "      <td>b'T'</td>\n",
        "      <td>82606</td>\n",
        "      <td>...</td>\n",
        "      <td>b' '</td>\n",
        "      <td>b'C'</td>\n",
        "      <td>b' '</td>\n",
        "      <td>b' '</td>\n",
        "      <td>b' '</td>\n",
        "      <td>b' '</td>\n",
        "      <td>b' '</td>\n",
        "      <td>b' '</td>\n",
        "      <td>b' '</td>\n",
        "      <td>1.391691e+09</td>\n",
        "    </tr>\n",
        "  </tbody>\n",
        "</table>\n",
        "<p>10 rows \u00d7 22 columns</p>\n",
        "</div>"
       ],
       "metadata": {},
       "output_type": "pyout",
       "prompt_number": 83,
       "text": [
        "  Exchange               Symbol  Bid_Price  Bid_Size  Ask_Price  Ask_Size  \\\n",
        "0     b'T'  b'A               '          0         0       0.00         0   \n",
        "1     b'T'  b'A               '          0         0      63.30         1   \n",
        "2     b'T'  b'A               '          0         0       0.00         0   \n",
        "3     b'T'  b'A               '          0         0      63.29         1   \n",
        "4     b'T'  b'A               '          0         0       0.00         0   \n",
        "5     b'T'  b'A               '          0         0      63.30         1   \n",
        "6     b'T'  b'A               '          0         0       0.00         0   \n",
        "7     b'T'  b'A               '          0         0      63.30         1   \n",
        "8     b'T'  b'A               '          0         0       0.00         0   \n",
        "9     b'T'  b'A               '          0         0      63.30         1   \n",
        "\n",
        "  Quote_Condition Bid_Exchange Ask_Exchange  Sequence_Number      ...       \\\n",
        "0            b'R'         b'T'         b'T'            81841      ...        \n",
        "1            b'R'         b'T'         b'T'            81850      ...        \n",
        "2            b'R'         b'T'         b'T'            82038      ...        \n",
        "3            b'R'         b'T'         b'T'            82047      ...        \n",
        "4            b'R'         b'T'         b'T'            82360      ...        \n",
        "5            b'R'         b'T'         b'T'            82372      ...        \n",
        "6            b'R'         b'T'         b'T'            82496      ...        \n",
        "7            b'R'         b'T'         b'T'            82503      ...        \n",
        "8            b'R'         b'T'         b'T'            82598      ...        \n",
        "9            b'R'         b'T'         b'T'            82606      ...        \n",
        "\n",
        "  Quote_Cancel_Correction Source_of_Quote Retail_Interest_Indicator_RPI  \\\n",
        "0                    b' '            b'C'                          b' '   \n",
        "1                    b' '            b'C'                          b' '   \n",
        "2                    b' '            b'C'                          b' '   \n",
        "3                    b' '            b'C'                          b' '   \n",
        "4                    b' '            b'C'                          b' '   \n",
        "5                    b' '            b'C'                          b' '   \n",
        "6                    b' '            b'C'                          b' '   \n",
        "7                    b' '            b'C'                          b' '   \n",
        "8                    b' '            b'C'                          b' '   \n",
        "9                    b' '            b'C'                          b' '   \n",
        "\n",
        "  Short_Sale_Restriction_Indicator LULD_BBO_Indicator_CQS  \\\n",
        "0                             b' '                   b' '   \n",
        "1                             b' '                   b' '   \n",
        "2                             b' '                   b' '   \n",
        "3                             b' '                   b' '   \n",
        "4                             b' '                   b' '   \n",
        "5                             b' '                   b' '   \n",
        "6                             b' '                   b' '   \n",
        "7                             b' '                   b' '   \n",
        "8                             b' '                   b' '   \n",
        "9                             b' '                   b' '   \n",
        "\n",
        "  LULD_BBO_Indicator_UTP FINRA_ADF_MPID_Indicator  \\\n",
        "0                   b' '                     b' '   \n",
        "1                   b' '                     b' '   \n",
        "2                   b' '                     b' '   \n",
        "3                   b' '                     b' '   \n",
        "4                   b' '                     b' '   \n",
        "5                   b' '                     b' '   \n",
        "6                   b' '                     b' '   \n",
        "7                   b' '                     b' '   \n",
        "8                   b' '                     b' '   \n",
        "9                   b' '                     b' '   \n",
        "\n",
        "  SIP_generated_Message_Identifier National_BBO_LULD_Indicator          Time  \n",
        "0                             b' '                        b' '  1.391691e+09  \n",
        "1                             b' '                        b' '  1.391691e+09  \n",
        "2                             b' '                        b' '  1.391691e+09  \n",
        "3                             b' '                        b' '  1.391691e+09  \n",
        "4                             b' '                        b' '  1.391691e+09  \n",
        "5                             b' '                        b' '  1.391691e+09  \n",
        "6                             b' '                        b' '  1.391691e+09  \n",
        "7                             b' '                        b' '  1.391691e+09  \n",
        "8                             b' '                        b' '  1.391691e+09  \n",
        "9                             b' '                        b' '  1.391691e+09  \n",
        "\n",
        "[10 rows x 22 columns]"
       ]
      }
     ],
     "prompt_number": 83
    },
    {
     "cell_type": "code",
     "collapsed": false,
     "input": [
      "# note that time is not correctly parsed yet:\n",
      "chunk_df.Time"
     ],
     "language": "python",
     "metadata": {},
     "outputs": [
      {
       "metadata": {},
       "output_type": "pyout",
       "prompt_number": 96,
       "text": [
        "0    1.391691e+09\n",
        "1    1.391691e+09\n",
        "2    1.391691e+09\n",
        "3    1.391691e+09\n",
        "4    1.391691e+09\n",
        "5    1.391691e+09\n",
        "6    1.391691e+09\n",
        "7    1.391691e+09\n",
        "8    1.391691e+09\n",
        "9    1.391691e+09\n",
        "Name: Time, dtype: float64"
       ]
      }
     ],
     "prompt_number": 96
    },
    {
     "cell_type": "markdown",
     "metadata": {},
     "source": [
      "# Goal: Compute some summary statistics across a few securities in the TAQ file\n",
      "\n",
      "Processing an entire TAQ file will take a long time. So, maybe just run through the chunks for the first two securities (you can then exit out of a loop once you see the third security / symbol)."
     ]
    },
    {
     "cell_type": "code",
     "collapsed": false,
     "input": [],
     "language": "python",
     "metadata": {},
     "outputs": []
    },
    {
     "cell_type": "markdown",
     "metadata": {},
     "source": [
      "# some simple examples of how generator functions work"
     ]
    },
    {
     "cell_type": "code",
     "collapsed": false,
     "input": [
      "def simple_fun(l):\n",
      "    for item in l:\n",
      "        yield item"
     ],
     "language": "python",
     "metadata": {},
     "outputs": [],
     "prompt_number": 15
    },
    {
     "cell_type": "code",
     "collapsed": false,
     "input": [
      "simple_gen = simple_fun(['a', 'b', 1, 2])"
     ],
     "language": "python",
     "metadata": {},
     "outputs": [],
     "prompt_number": 16
    },
    {
     "cell_type": "code",
     "collapsed": false,
     "input": [
      "type(simple_gen)"
     ],
     "language": "python",
     "metadata": {},
     "outputs": [
      {
       "metadata": {},
       "output_type": "pyout",
       "prompt_number": 17,
       "text": [
        "generator"
       ]
      }
     ],
     "prompt_number": 17
    },
    {
     "cell_type": "code",
     "collapsed": false,
     "input": [
      "next(simple_gen)"
     ],
     "language": "python",
     "metadata": {},
     "outputs": [
      {
       "ename": "StopIteration",
       "evalue": "",
       "output_type": "pyerr",
       "traceback": [
        "\u001b[0;31m---------------------------------------------------------------------------\u001b[0m\n\u001b[0;31mStopIteration\u001b[0m                             Traceback (most recent call last)",
        "\u001b[0;32m<ipython-input-22-28e3d61e1b47>\u001b[0m in \u001b[0;36m<module>\u001b[0;34m()\u001b[0m\n\u001b[0;32m----> 1\u001b[0;31m \u001b[0mnext\u001b[0m\u001b[0;34m(\u001b[0m\u001b[0msimple_gen\u001b[0m\u001b[0;34m)\u001b[0m\u001b[0;34m\u001b[0m\u001b[0m\n\u001b[0m",
        "\u001b[0;31mStopIteration\u001b[0m: "
       ]
      }
     ],
     "prompt_number": 22
    },
    {
     "cell_type": "code",
     "collapsed": false,
     "input": [
      "for item in simple_fun(['a', 'b', 1, 2]):\n",
      "    print(item)"
     ],
     "language": "python",
     "metadata": {},
     "outputs": [
      {
       "output_type": "stream",
       "stream": "stdout",
       "text": [
        "a\n",
        "b\n",
        "1\n",
        "2\n"
       ]
      }
     ],
     "prompt_number": 23
    }
   ],
   "metadata": {}
  }
 ]
}